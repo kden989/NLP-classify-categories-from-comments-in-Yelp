{
 "cells": [
  {
   "cell_type": "markdown",
   "id": "4c1e00c6",
   "metadata": {},
   "source": [
    "### Task 1\n",
    "1. Task one Completion Strategy:\n",
    "Goal: The primary goal is to classify Yelp reviews into one of three categories: \"Restaurants,\" \"Nightlife,\" or \"Shopping.\"。 We decide to use Naive Bayes beacuse it is  efficient with high-dimensional datasets, like those generated from text data, and it often provide a  baseline in text classification tasks due to its probabilistic nature. \n",
    "Process: We preprocess the data to clean and normalize the text, apply TF-IDF vectorization for feature extraction, balance the class distribution using SMOTE, and train a Multinomial Naive Bayes model. We then evaluate the model's performance using cross-validation and a held-out test set.\n",
    "\n",
    "2. Data Representation and Preprocessing: \n",
    "+ Removing Contractions and Numerical References :\n",
    "We simplify the text by removing contractions (e.g., 's|'ll|'d|'re|'ve|'m|n'\") and numerical references.within brackets (e.g.[12345])to standardize the input.\n",
    "+ Character Normalization: Words with exaggerated characters are normalized (e.g., \"soooo\" becomes \"so\") to ensure consistency in word forms.\n",
    "+ Tokenization and Lemmatization: We break down the text into individual words and convert them to their base or lemma form, using POS tagging to accurately determine the grammatical usage of words in the text.(e.g., \"going\" becomes \"go\",\"bananas\"becomes\"banana\".)\n",
    "+ Removing Stopwords and Punctuation: Non-informative elements like stopwords (e.g., 'a', \"is\",\"it\",\"do\", \"off\")and punctuation marks (e.g. '!', '#', '$')are removed to focus on meaningful words that contribute to classification.\n",
    "\n",
    "3. Feature Engineering:\n",
    "TF-IDF Vectorization: This method is used to transform text into a numeric format, weighting words not only by their frequency in a single document but also by their rarity across all documents, which helps us highlight important words useful for classification.\n",
    "\n",
    "4. Handling Class Imbalance:\n",
    "To prevent model bias towards the majority class(restaurant) and ensure it learns equally from all classes, we use the SMOTE technique to balance the dataset by generating synthetic samples.\n",
    "\n",
    "5. Model Training and Validation:\n",
    "+ Model Choice: We use the Multinomial Naive Bayes model for the Task one, suitable for high-dimensional text data after transformed by produced by TF-IDF.\n",
    "+ Rationale: Despite its simplicity and the assumption of feature independence, Naive Bayes is effective in managing high-dimensional spaces and performs well in text classification due to its probabilistic Bayes theorem.\n",
    "+ Cross-validation: We use a 10-fold Stratified cross-validation within the training data to tune and validate the model before final testing, ensuring that our model generalizes well to new data.\n",
    "\n",
    "6. Evaluation and Reporting:\n",
    "Performance Reporting: After cross-validation shows satisfactory results (93% accuracy), we use the remaining 20% of the data as a test set, where the model achieves 88% accuracy, confirming its effectiveness.\n",
    "\n",
    "7. Improved Methods:\n",
    "Our first model performance fine by doing cleaning and probability-based modeling to tackle common issues in classifying text. The firstl steps clean up and make the text more uniform, and  TF-IDF highlights important words, and SMOTE ensures that all categories are equally represented, avoiding bias towards any single group,and naïve bayes works well for NLP task.\n",
    "Challenges: Distinguishing between \"Nightlife\" and \"Restaurants\" is challenging due to similar mentions of food and drinks in both categories. And All three classes may all mention about price.\n",
    "Proposed Solution: To improve classification, we consider adding more features and exploring different modeling techniques, so we then build our second model.\n"
   ]
  },
  {
   "cell_type": "markdown",
   "id": "479394f3",
   "metadata": {},
   "source": [
    "### Task two\n",
    "1. Motivation for Improving the Model:\n",
    "We aim to enhance our initial model by incorporating additional variables that are more informative for distinguishing between the categories, particularly between \"Restaurant\" and \"Nightlife.\" Based on our analysis:\n",
    "\n",
    "2. Feature selection:\n",
    "+ Geographic Variables: Latitude and longitude were considered less useful since all reviews are from the same urban area (New Orleans) and their pearson correlation is 0.3, which is relatively high.\n",
    "+ Mean Check-in Time: This variable showed potential for distinguishing \"Nightlife\" (especially very late activities might more tend to be” Nightlife”) from other categories. Also, it has a minimal correlation overall, making it a suitable candidate for inclusion in the model.\n",
    "+ Name Variable: Including the name with the review text may provide clear indicators of the category since names often contain keywords like 'store,' 'shop,' 'restaurant,' or 'bar”, which might make to classification more clear.\n",
    "\n",
    "3. Data Preprocessing Steps\n",
    "+ Text Variables:\n",
    "Combination: We combine the 'name' and 'review' into one column, treating it as a single text variable.\n",
    "+ Preprocessing Techniques: We apply the same methods as in the initial task, which include removing contractions, tokenizing, lemmatizing, and removing stopwords and punctuation. The clean text is then transformed using TF-IDF Vectorization.\n",
    "+  Numerical Variables:\n",
    "Mean Check-in Time: We observed a non-normal distribution with two peaks during certain hours. Attempts to normalize it using PowerTransformer method,but still non-normality. To keep the model simple, we retain the original data format.\n",
    "4. Handling Class Imbalance\n",
    "We use SMOTE to oversample the data and mitigate bias towards the majority class (Restaurant).\n",
    "5. Model Training and Validation\n",
    "+ Variable-Specific Modeling:\n",
    "**Text Features**: For word frequency feature derived from text (including the combined 'name' and 'review'), we select the **Multinomial Naive Bayes model** due to its suitability for handling word frequencies. This is our **text_model**. (train this model on 80% training data)\n",
    "**Numerical Features**: For 'mean_checkin_time,' we choose the **Gaussian Naive Bayes model**, which is typically used for features with a distribution close to normal. Noticing the non-normal distribution of the time feature, we adjust the model using grid search cross-validation on the 80% training data to tuning hyperparameter \"var_smoothing'. This is our **numerical_model**.\n",
    "+ Combining Models:\n",
    "We multiply the predictive probabilities from both models for each feature, enhancing the overall prediction accuracy. This is our joined_model.\n",
    "Initially testing this combined model (joined_model) on the test set shows an accuracy of 88%. But We notice that the precision is improved for 'Nightlife' and 'Restaurant' compared the model in task one (from 60 % to 66% in \"Nightlife\" and from 96% to 98% in \"Resaturant\"), but a decrease for 'Shopping.'\n",
    "+ Adjusted combining model:\n",
    "To remain the enhanced model predict precision in “Nightlife”and “Restaurant” without losing accuracy in predicting 'Shopping,', we adjust model this way: if the text model predicts 'Shopping,' we retain this prediction. Otherwise, we use the combined model to predict between 'Restaurant' and 'Nightlife'.\n",
    "This strategy improves the overall test accuracy from 88% to 90%."
   ]
  },
  {
   "cell_type": "markdown",
   "id": "939fa1ff",
   "metadata": {},
   "source": [
    "Finally, we retrain the combined model using all the data in the training set, then use it to predict our test data, and then adjust the final predictions."
   ]
  },
  {
   "cell_type": "code",
   "execution_count": null,
   "id": "0a573dfc",
   "metadata": {},
   "outputs": [],
   "source": [
    "import numpy as np\n",
    "import pandas as pd\n",
    "import matplotlib.pyplot as plt\n",
    "import seaborn as sns"
   ]
  },
  {
   "cell_type": "code",
   "execution_count": 2,
   "id": "525dd872",
   "metadata": {},
   "outputs": [],
   "source": [
    "df=pd.read_csv(\"train.csv\")"
   ]
  },
  {
   "cell_type": "code",
   "execution_count": 3,
   "id": "aeac5dd3",
   "metadata": {},
   "outputs": [
    {
     "name": "stdout",
     "output_type": "stream",
     "text": [
      "<class 'pandas.core.frame.DataFrame'>\n",
      "RangeIndex: 2838 entries, 0 to 2837\n",
      "Data columns (total 7 columns):\n",
      " #   Column             Non-Null Count  Dtype  \n",
      "---  ------             --------------  -----  \n",
      " 0   ID                 2838 non-null   int64  \n",
      " 1   name               2838 non-null   object \n",
      " 2   latitude           2838 non-null   float64\n",
      " 3   longitude          2838 non-null   float64\n",
      " 4   mean_checkin_time  2838 non-null   float64\n",
      " 5   review             2838 non-null   object \n",
      " 6   category           2838 non-null   object \n",
      "dtypes: float64(3), int64(1), object(3)\n",
      "memory usage: 155.3+ KB\n"
     ]
    }
   ],
   "source": [
    "df.info()"
   ]
  },
  {
   "cell_type": "code",
   "execution_count": 4,
   "id": "87f832e8",
   "metadata": {},
   "outputs": [
    {
     "data": {
      "text/plain": [
       "2838"
      ]
     },
     "execution_count": 4,
     "metadata": {},
     "output_type": "execute_result"
    }
   ],
   "source": [
    "df[\"ID\"].nunique()"
   ]
  },
  {
   "cell_type": "code",
   "execution_count": 5,
   "id": "a12b1c6c",
   "metadata": {
    "scrolled": true
   },
   "outputs": [
    {
     "data": {
      "text/plain": [
       "<Axes: xlabel='category', ylabel='count'>"
      ]
     },
     "execution_count": 5,
     "metadata": {},
     "output_type": "execute_result"
    },
    {
     "data": {
      "image/png": "[encoded data removed]",
      "text/plain": [
       "<Figure size 400x400 with 1 Axes>"
      ]
     },
     "metadata": {},
     "output_type": "display_data"
    }
   ],
   "source": [
    "plt.figure(figsize=(4,4))\n",
    "sns.countplot(data=df, x=\"category\")"
   ]
  },
  {
   "cell_type": "markdown",
   "id": "4673dfd9",
   "metadata": {},
   "source": [
    "#### here we notice that the classification is not balance so  using SMOTE to oversample later"
   ]
  },
  {
   "cell_type": "code",
   "execution_count": 6,
   "id": "9a047d32",
   "metadata": {},
   "outputs": [
    {
     "name": "stdout",
     "output_type": "stream",
     "text": [
      "30.0515751 29.89320094\n"
     ]
    }
   ],
   "source": [
    "print(df[\"latitude\"].max(),df[\"latitude\"].min())"
   ]
  },
  {
   "cell_type": "code",
   "execution_count": 7,
   "id": "98356a8c",
   "metadata": {},
   "outputs": [
    {
     "name": "stdout",
     "output_type": "stream",
     "text": [
      "-89.9125101 -90.2230101\n"
     ]
    }
   ],
   "source": [
    "print(df[\"longitude\"].max(),df[\"longitude\"].min())"
   ]
  },
  {
   "cell_type": "markdown",
   "id": "008c36bb",
   "metadata": {},
   "source": [
    "### data preprocessing"
   ]
  },
  {
   "cell_type": "markdown",
   "id": "1ad9e09c",
   "metadata": {},
   "source": [
    "#### 1. Text processing:remove contraction-(’s\\'d\\,m..)+ remive repeated words (soooo\\greatttt..) +lemmatize words(including noun,verb,adj,adv..)"
   ]
  },
  {
   "cell_type": "code",
   "execution_count": 8,
   "id": "4b439908",
   "metadata": {},
   "outputs": [
    {
     "name": "stderr",
     "output_type": "stream",
     "text": [
      "[nltk_data] Downloading package punkt to\n",
      "[nltk_data]     C:\\Users\\keden\\AppData\\Roaming\\nltk_data...\n",
      "[nltk_data]   Package punkt is already up-to-date!\n",
      "[nltk_data] Downloading package wordnet to\n",
      "[nltk_data]     C:\\Users\\keden\\AppData\\Roaming\\nltk_data...\n",
      "[nltk_data]   Package wordnet is already up-to-date!\n"
     ]
    }
   ],
   "source": [
    "import nltk\n",
    "nltk.download(\"punkt\")\n",
    "nltk.download('wordnet')\n",
    "from nltk.stem import WordNetLemmatizer\n",
    "from nltk.corpus import stopwords\n",
    "import string\n",
    "import re"
   ]
  },
  {
   "cell_type": "code",
   "execution_count": 9,
   "id": "f114109c",
   "metadata": {},
   "outputs": [],
   "source": [
    "lemmatizer=WordNetLemmatizer()\n",
    "stopwords_set=set(stopwords.words(\"english\"))\n",
    "punctuation_set=set(string.punctuation)"
   ]
  },
  {
   "cell_type": "code",
   "execution_count": 162,
   "id": "8cd3a84f",
   "metadata": {},
   "outputs": [],
   "source": [
    "# punctuation_set"
   ]
  },
  {
   "cell_type": "code",
   "execution_count": 10,
   "id": "db202097",
   "metadata": {},
   "outputs": [],
   "source": [
    "def remove_contractions(text):\n",
    "    text = re.sub(r\"\\b('s|'ll|'d|'re|'ve|'m|n't)\\b\", '', text)\n",
    "    text = re.sub(r'\\[[0-9]*\\]', ' ', text)\n",
    "    return text"
   ]
  },
  {
   "cell_type": "code",
   "execution_count": 11,
   "id": "72765e8e",
   "metadata": {},
   "outputs": [],
   "source": [
    "def reduce_repeated_characters(word):  #sooooooo\n",
    "    return re.sub(r'(.)\\1{2,}', r'\\1\\1', word)"
   ]
  },
  {
   "cell_type": "code",
   "execution_count": 12,
   "id": "e73be09f",
   "metadata": {
    "scrolled": true
   },
   "outputs": [
    {
     "name": "stderr",
     "output_type": "stream",
     "text": [
      "[nltk_data] Downloading package averaged_perceptron_tagger to\n",
      "[nltk_data]     C:\\Users\\keden\\AppData\\Roaming\\nltk_data...\n",
      "[nltk_data]   Package averaged_perceptron_tagger is already up-to-\n",
      "[nltk_data]       date!\n"
     ]
    }
   ],
   "source": [
    "import nltk\n",
    "nltk.download('averaged_perceptron_tagger')\n",
    "from nltk.corpus import wordnet"
   ]
  },
  {
   "cell_type": "code",
   "execution_count": 13,
   "id": "83c96032",
   "metadata": {},
   "outputs": [],
   "source": [
    "from nltk.corpus import wordnet\n",
    "from nltk import pos_tag\n",
    "def get_wordnet_pos(treebank_tag):  #seperate different cate: gping--go\n",
    "    if treebank_tag.startswith('J'):\n",
    "        return wordnet.ADJ\n",
    "    elif treebank_tag.startswith('V'):\n",
    "        return wordnet.VERB\n",
    "    elif treebank_tag.startswith('N'):\n",
    "        return wordnet.NOUN\n",
    "    elif treebank_tag.startswith('R'):\n",
    "        return wordnet.ADV\n",
    "    else:\n",
    "        return wordnet.NOUN  "
   ]
  },
  {
   "cell_type": "code",
   "execution_count": 14,
   "id": "619ae2ba",
   "metadata": {},
   "outputs": [],
   "source": [
    "def clean_and_lemma(text):  \n",
    "   \n",
    "    text=remove_contractions(text)\n",
    "    \n",
    "    words=nltk.word_tokenize(text)\n",
    "    words = [word for word in words if word.lower() not in stopwords_set]\n",
    "    pos_tags = pos_tag(words)  \n",
    "    \n",
    "    filtered_lemma_words = []\n",
    "    for word, tag in pos_tags:\n",
    "        wordnet_pos = get_wordnet_pos(tag)  # get cixing\n",
    "        reduced_word = reduce_repeated_characters(word)\n",
    "        lemma_word = lemmatizer.lemmatize(reduced_word.lower(), pos=wordnet_pos)\n",
    "        if all(char not in punctuation_set for char in lemma_word) and lemma_word.strip():\n",
    "            filtered_lemma_words.append(lemma_word)\n",
    "\n",
    "    return \" \".join(filtered_lemma_words)"
   ]
  },
  {
   "cell_type": "code",
   "execution_count": 15,
   "id": "45a9475b",
   "metadata": {},
   "outputs": [
    {
     "data": {
      "text/plain": [
       "'word food take forever come burger way overcook especially order medium rare seafood jumbalaya decent worth price good place eat french quarter horrible everything heard place would expect much well'"
      ]
     },
     "execution_count": 15,
     "metadata": {},
     "output_type": "execute_result"
    }
   ],
   "source": [
    "# test\n",
    "a= \"In a word...'OVERRATED!''.  The food took forever to come out.  The burger was WAY overcooked (Especially when I ordered it Medium Rare) and the Seafood Jumbalaya was Decent.  Not worth the price.  There are better places to eat in the french quarter.  It was not horrible, but for everything that we had heard about this place, I would have expected much better.\"\n",
    "clean_and_lemma(a)"
   ]
  },
  {
   "cell_type": "code",
   "execution_count": 16,
   "id": "3cc764d8",
   "metadata": {},
   "outputs": [],
   "source": [
    "df[\"review_clean\"]=df[\"review\"].apply(clean_and_lemma)\n",
    "df[\"name_clean\"]=df[\"name\"].apply(clean_and_lemma)"
   ]
  },
  {
   "cell_type": "code",
   "execution_count": 17,
   "id": "6bf93ab9",
   "metadata": {},
   "outputs": [
    {
     "data": {
      "text/plain": [
       "0    experienced splendid pig trip nola family appr...\n",
       "1    ok great location girl behind counter actually...\n",
       "2    soo excite location disappoint fire lol sandwi...\n",
       "3    open feel like hit big open space list communa...\n",
       "4             love hole wall def must get biscuit huge\n",
       "5    ever mood affordable tasty gentilly area make ...\n",
       "6    disgust place ever walk got charge bad lady wo...\n",
       "7    stand st roch corner shop downtown daily beet ...\n",
       "8    fried chicken good service slow cleanliness at...\n",
       "9    bread special bread basket fry soft shell crab...\n",
       "Name: review_clean, dtype: object"
      ]
     },
     "execution_count": 17,
     "metadata": {},
     "output_type": "execute_result"
    }
   ],
   "source": [
    "df[\"review_clean\"].head(10)"
   ]
  },
  {
   "cell_type": "code",
   "execution_count": 18,
   "id": "2658d491",
   "metadata": {},
   "outputs": [
    {
     "data": {
      "text/plain": [
       "0                   splendid pig\n",
       "1                         subway\n",
       "2                  firehouse sub\n",
       "3           port orleans brewing\n",
       "4    new orleans cake caf bakery\n",
       "Name: name_clean, dtype: object"
      ]
     },
     "execution_count": 18,
     "metadata": {},
     "output_type": "execute_result"
    }
   ],
   "source": [
    "df[\"name_clean\"].head()"
   ]
  },
  {
   "cell_type": "code",
   "execution_count": 19,
   "id": "696ea743",
   "metadata": {},
   "outputs": [],
   "source": [
    "X_review=df[\"review_clean\"]\n",
    "y=df[\"category\"]"
   ]
  },
  {
   "cell_type": "code",
   "execution_count": 20,
   "id": "18aaba35",
   "metadata": {},
   "outputs": [],
   "source": [
    "df[\"X_text\"] = df[\"name_clean\"]+ \" \"+df[\"review_clean\"] \n",
    "X_text = df[\"X_text\"]"
   ]
  },
  {
   "cell_type": "code",
   "execution_count": 21,
   "id": "1121f00a",
   "metadata": {},
   "outputs": [
    {
     "data": {
      "text/plain": [
       "0    splendid pig experienced splendid pig trip nol...\n",
       "1    subway ok great location girl behind counter a...\n",
       "2    firehouse sub soo excite location disappoint f...\n",
       "3    port orleans brewing open feel like hit big op...\n",
       "4    new orleans cake caf bakery love hole wall def...\n",
       "Name: X_text, dtype: object"
      ]
     },
     "execution_count": 21,
     "metadata": {},
     "output_type": "execute_result"
    }
   ],
   "source": [
    "X_text.head()"
   ]
  },
  {
   "cell_type": "code",
   "execution_count": null,
   "id": "efba2398",
   "metadata": {},
   "outputs": [],
   "source": []
  },
  {
   "cell_type": "markdown",
   "id": "3af3258e",
   "metadata": {},
   "source": [
    "### Base model: only use review"
   ]
  },
  {
   "cell_type": "markdown",
   "id": "704502a6",
   "metadata": {},
   "source": [
    "### 1.train test split on training dataset"
   ]
  },
  {
   "cell_type": "code",
   "execution_count": 22,
   "id": "16e36068",
   "metadata": {},
   "outputs": [],
   "source": [
    "from sklearn.model_selection import train_test_split\n",
    "X_train_review, X_test_review, y_train, y_test\\\n",
    "= train_test_split(X_review,y, test_size=0.2, random_state=101)"
   ]
  },
  {
   "cell_type": "markdown",
   "id": "a5eb04cc",
   "metadata": {},
   "source": [
    "#### 2.Model"
   ]
  },
  {
   "cell_type": "code",
   "execution_count": 23,
   "id": "d4c3cb6b",
   "metadata": {},
   "outputs": [],
   "source": [
    "from sklearn.feature_extraction.text import TfidfVectorizer\n",
    "from imblearn.over_sampling import SMOTE\n",
    "from sklearn.naive_bayes import MultinomialNB"
   ]
  },
  {
   "cell_type": "code",
   "execution_count": 24,
   "id": "8dc8f952",
   "metadata": {},
   "outputs": [],
   "source": [
    "from sklearn.model_selection import cross_validate\n",
    "from sklearn.model_selection import StratifiedKFold"
   ]
  },
  {
   "cell_type": "code",
   "execution_count": 25,
   "id": "ecac3b05",
   "metadata": {},
   "outputs": [],
   "source": [
    "tfidf = TfidfVectorizer()\n",
    "X_train_review_tfidf = tfidf.fit_transform(X_train_review)"
   ]
  },
  {
   "cell_type": "code",
   "execution_count": 26,
   "id": "f62a219c",
   "metadata": {},
   "outputs": [],
   "source": [
    "smote = SMOTE(random_state=42)\n",
    "X_train_review_smote, y_train_smote = smote.fit_resample(X_train_review_tfidf, y_train)"
   ]
  },
  {
   "cell_type": "code",
   "execution_count": 27,
   "id": "c4fb10ec",
   "metadata": {},
   "outputs": [],
   "source": [
    "simple_text_model = MultinomialNB()"
   ]
  },
  {
   "cell_type": "code",
   "execution_count": 28,
   "id": "18cbff2a",
   "metadata": {},
   "outputs": [],
   "source": [
    "cv_method = StratifiedKFold(n_splits=10, random_state=101, shuffle=True)\n",
    "scoring = ['accuracy', 'precision_macro', 'recall_macro', 'f1_macro']"
   ]
  },
  {
   "cell_type": "code",
   "execution_count": 29,
   "id": "f87eb1a4",
   "metadata": {
    "scrolled": true
   },
   "outputs": [],
   "source": [
    "scores_simple_text_model= cross_validate(\n",
    "    estimator=simple_text_model,\n",
    "    X=X_train_review_smote,\n",
    "    y=y_train_smote,\n",
    "    scoring=scoring,\n",
    "    cv=cv_method,)"
   ]
  },
  {
   "cell_type": "code",
   "execution_count": 30,
   "id": "75e692cb",
   "metadata": {},
   "outputs": [
    {
     "data": {
      "text/html": [
       "<div>\n",
       "<style scoped>\n",
       "    .dataframe tbody tr th:only-of-type {\n",
       "        vertical-align: middle;\n",
       "    }\n",
       "\n",
       "    .dataframe tbody tr th {\n",
       "        vertical-align: top;\n",
       "    }\n",
       "\n",
       "    .dataframe thead th {\n",
       "        text-align: right;\n",
       "    }\n",
       "</style>\n",
       "<table border=\"1\" class=\"dataframe\">\n",
       "  <thead>\n",
       "    <tr style=\"text-align: right;\">\n",
       "      <th></th>\n",
       "      <th>fit_time</th>\n",
       "      <th>score_time</th>\n",
       "      <th>test_accuracy</th>\n",
       "      <th>test_precision_macro</th>\n",
       "      <th>test_recall_macro</th>\n",
       "      <th>test_f1_macro</th>\n",
       "    </tr>\n",
       "  </thead>\n",
       "  <tbody>\n",
       "    <tr>\n",
       "      <th>0</th>\n",
       "      <td>0.019075</td>\n",
       "      <td>0.012985</td>\n",
       "      <td>0.920930</td>\n",
       "      <td>0.927692</td>\n",
       "      <td>0.920859</td>\n",
       "      <td>0.920972</td>\n",
       "    </tr>\n",
       "    <tr>\n",
       "      <th>1</th>\n",
       "      <td>0.028671</td>\n",
       "      <td>0.019003</td>\n",
       "      <td>0.911628</td>\n",
       "      <td>0.918180</td>\n",
       "      <td>0.911519</td>\n",
       "      <td>0.910264</td>\n",
       "    </tr>\n",
       "    <tr>\n",
       "      <th>2</th>\n",
       "      <td>0.025065</td>\n",
       "      <td>0.017000</td>\n",
       "      <td>0.937209</td>\n",
       "      <td>0.941763</td>\n",
       "      <td>0.937451</td>\n",
       "      <td>0.936526</td>\n",
       "    </tr>\n",
       "    <tr>\n",
       "      <th>3</th>\n",
       "      <td>0.031857</td>\n",
       "      <td>0.014008</td>\n",
       "      <td>0.939394</td>\n",
       "      <td>0.941326</td>\n",
       "      <td>0.939394</td>\n",
       "      <td>0.939035</td>\n",
       "    </tr>\n",
       "    <tr>\n",
       "      <th>4</th>\n",
       "      <td>0.026913</td>\n",
       "      <td>0.012084</td>\n",
       "      <td>0.948718</td>\n",
       "      <td>0.949885</td>\n",
       "      <td>0.948718</td>\n",
       "      <td>0.948329</td>\n",
       "    </tr>\n",
       "    <tr>\n",
       "      <th>5</th>\n",
       "      <td>0.030133</td>\n",
       "      <td>0.012726</td>\n",
       "      <td>0.927739</td>\n",
       "      <td>0.934324</td>\n",
       "      <td>0.927739</td>\n",
       "      <td>0.926790</td>\n",
       "    </tr>\n",
       "    <tr>\n",
       "      <th>6</th>\n",
       "      <td>0.027983</td>\n",
       "      <td>0.009999</td>\n",
       "      <td>0.941725</td>\n",
       "      <td>0.947267</td>\n",
       "      <td>0.941725</td>\n",
       "      <td>0.941890</td>\n",
       "    </tr>\n",
       "    <tr>\n",
       "      <th>7</th>\n",
       "      <td>0.026002</td>\n",
       "      <td>0.019008</td>\n",
       "      <td>0.941725</td>\n",
       "      <td>0.945472</td>\n",
       "      <td>0.941725</td>\n",
       "      <td>0.941137</td>\n",
       "    </tr>\n",
       "    <tr>\n",
       "      <th>8</th>\n",
       "      <td>0.023517</td>\n",
       "      <td>0.014999</td>\n",
       "      <td>0.960373</td>\n",
       "      <td>0.962859</td>\n",
       "      <td>0.960373</td>\n",
       "      <td>0.960301</td>\n",
       "    </tr>\n",
       "    <tr>\n",
       "      <th>9</th>\n",
       "      <td>0.031986</td>\n",
       "      <td>0.017078</td>\n",
       "      <td>0.948718</td>\n",
       "      <td>0.951583</td>\n",
       "      <td>0.948718</td>\n",
       "      <td>0.948303</td>\n",
       "    </tr>\n",
       "  </tbody>\n",
       "</table>\n",
       "</div>"
      ],
      "text/plain": [
       "   fit_time  score_time  test_accuracy  test_precision_macro  \\\n",
       "0  0.019075    0.012985       0.920930              0.927692   \n",
       "1  0.028671    0.019003       0.911628              0.918180   \n",
       "2  0.025065    0.017000       0.937209              0.941763   \n",
       "3  0.031857    0.014008       0.939394              0.941326   \n",
       "4  0.026913    0.012084       0.948718              0.949885   \n",
       "5  0.030133    0.012726       0.927739              0.934324   \n",
       "6  0.027983    0.009999       0.941725              0.947267   \n",
       "7  0.026002    0.019008       0.941725              0.945472   \n",
       "8  0.023517    0.014999       0.960373              0.962859   \n",
       "9  0.031986    0.017078       0.948718              0.951583   \n",
       "\n",
       "   test_recall_macro  test_f1_macro  \n",
       "0           0.920859       0.920972  \n",
       "1           0.911519       0.910264  \n",
       "2           0.937451       0.936526  \n",
       "3           0.939394       0.939035  \n",
       "4           0.948718       0.948329  \n",
       "5           0.927739       0.926790  \n",
       "6           0.941725       0.941890  \n",
       "7           0.941725       0.941137  \n",
       "8           0.960373       0.960301  \n",
       "9           0.948718       0.948303  "
      ]
     },
     "execution_count": 30,
     "metadata": {},
     "output_type": "execute_result"
    }
   ],
   "source": [
    "pd.DataFrame(scores_simple_text_model)"
   ]
  },
  {
   "cell_type": "code",
   "execution_count": 31,
   "id": "bbadd8ef",
   "metadata": {},
   "outputs": [
    {
     "data": {
      "text/plain": [
       "fit_time                0.027120\n",
       "score_time              0.014889\n",
       "test_accuracy           0.937816\n",
       "test_precision_macro    0.942035\n",
       "test_recall_macro       0.937822\n",
       "test_f1_macro           0.937355\n",
       "dtype: float64"
      ]
     },
     "execution_count": 31,
     "metadata": {},
     "output_type": "execute_result"
    }
   ],
   "source": [
    "pd.DataFrame(scores_simple_text_model).mean()"
   ]
  },
  {
   "cell_type": "markdown",
   "id": "33e48bb0",
   "metadata": {},
   "source": [
    "#### 3. Evaluate base_model perforemance on 20% trainning data"
   ]
  },
  {
   "cell_type": "code",
   "execution_count": 32,
   "id": "08e406e6",
   "metadata": {},
   "outputs": [
    {
     "data": {
      "text/html": [
       "<style>#sk-container-id-1 {color: black;background-color: white;}#sk-container-id-1 pre{padding: 0;}#sk-container-id-1 div.sk-toggleable {background-color: white;}#sk-container-id-1 label.sk-toggleable__label {cursor: pointer;display: block;width: 100%;margin-bottom: 0;padding: 0.3em;box-sizing: border-box;text-align: center;}#sk-container-id-1 label.sk-toggleable__label-arrow:before {content: \"▸\";float: left;margin-right: 0.25em;color: #696969;}#sk-container-id-1 label.sk-toggleable__label-arrow:hover:before {color: black;}#sk-container-id-1 div.sk-estimator:hover label.sk-toggleable__label-arrow:before {color: black;}#sk-container-id-1 div.sk-toggleable__content {max-height: 0;max-width: 0;overflow: hidden;text-align: left;background-color: #f0f8ff;}#sk-container-id-1 div.sk-toggleable__content pre {margin: 0.2em;color: black;border-radius: 0.25em;background-color: #f0f8ff;}#sk-container-id-1 input.sk-toggleable__control:checked~div.sk-toggleable__content {max-height: 200px;max-width: 100%;overflow: auto;}#sk-container-id-1 input.sk-toggleable__control:checked~label.sk-toggleable__label-arrow:before {content: \"▾\";}#sk-container-id-1 div.sk-estimator input.sk-toggleable__control:checked~label.sk-toggleable__label {background-color: #d4ebff;}#sk-container-id-1 div.sk-label input.sk-toggleable__control:checked~label.sk-toggleable__label {background-color: #d4ebff;}#sk-container-id-1 input.sk-hidden--visually {border: 0;clip: rect(1px 1px 1px 1px);clip: rect(1px, 1px, 1px, 1px);height: 1px;margin: -1px;overflow: hidden;padding: 0;position: absolute;width: 1px;}#sk-container-id-1 div.sk-estimator {font-family: monospace;background-color: #f0f8ff;border: 1px dotted black;border-radius: 0.25em;box-sizing: border-box;margin-bottom: 0.5em;}#sk-container-id-1 div.sk-estimator:hover {background-color: #d4ebff;}#sk-container-id-1 div.sk-parallel-item::after {content: \"\";width: 100%;border-bottom: 1px solid gray;flex-grow: 1;}#sk-container-id-1 div.sk-label:hover label.sk-toggleable__label {background-color: #d4ebff;}#sk-container-id-1 div.sk-serial::before {content: \"\";position: absolute;border-left: 1px solid gray;box-sizing: border-box;top: 0;bottom: 0;left: 50%;z-index: 0;}#sk-container-id-1 div.sk-serial {display: flex;flex-direction: column;align-items: center;background-color: white;padding-right: 0.2em;padding-left: 0.2em;position: relative;}#sk-container-id-1 div.sk-item {position: relative;z-index: 1;}#sk-container-id-1 div.sk-parallel {display: flex;align-items: stretch;justify-content: center;background-color: white;position: relative;}#sk-container-id-1 div.sk-item::before, #sk-container-id-1 div.sk-parallel-item::before {content: \"\";position: absolute;border-left: 1px solid gray;box-sizing: border-box;top: 0;bottom: 0;left: 50%;z-index: -1;}#sk-container-id-1 div.sk-parallel-item {display: flex;flex-direction: column;z-index: 1;position: relative;background-color: white;}#sk-container-id-1 div.sk-parallel-item:first-child::after {align-self: flex-end;width: 50%;}#sk-container-id-1 div.sk-parallel-item:last-child::after {align-self: flex-start;width: 50%;}#sk-container-id-1 div.sk-parallel-item:only-child::after {width: 0;}#sk-container-id-1 div.sk-dashed-wrapped {border: 1px dashed gray;margin: 0 0.4em 0.5em 0.4em;box-sizing: border-box;padding-bottom: 0.4em;background-color: white;}#sk-container-id-1 div.sk-label label {font-family: monospace;font-weight: bold;display: inline-block;line-height: 1.2em;}#sk-container-id-1 div.sk-label-container {text-align: center;}#sk-container-id-1 div.sk-container {/* jupyter's `normalize.less` sets `[hidden] { display: none; }` but bootstrap.min.css set `[hidden] { display: none !important; }` so we also need the `!important` here to be able to override the default hidden behavior on the sphinx rendered scikit-learn.org. See: https://github.com/scikit-learn/scikit-learn/issues/21755 */display: inline-block !important;position: relative;}#sk-container-id-1 div.sk-text-repr-fallback {display: none;}</style><div id=\"sk-container-id-1\" class=\"sk-top-container\"><div class=\"sk-text-repr-fallback\"><pre>MultinomialNB()</pre><b>In a Jupyter environment, please rerun this cell to show the HTML representation or trust the notebook. <br />On GitHub, the HTML representation is unable to render, please try loading this page with nbviewer.org.</b></div><div class=\"sk-container\" hidden><div class=\"sk-item\"><div class=\"sk-estimator sk-toggleable\"><input class=\"sk-toggleable__control sk-hidden--visually\" id=\"sk-estimator-id-1\" type=\"checkbox\" checked><label for=\"sk-estimator-id-1\" class=\"sk-toggleable__label sk-toggleable__label-arrow\">MultinomialNB</label><div class=\"sk-toggleable__content\"><pre>MultinomialNB()</pre></div></div></div></div></div>"
      ],
      "text/plain": [
       "MultinomialNB()"
      ]
     },
     "execution_count": 32,
     "metadata": {},
     "output_type": "execute_result"
    }
   ],
   "source": [
    "simple_text_model.fit(X_train_review_smote,y_train_smote)"
   ]
  },
  {
   "cell_type": "code",
   "execution_count": 33,
   "id": "cf3475ae",
   "metadata": {},
   "outputs": [],
   "source": [
    "X_test_review_tfidf=tfidf.transform(X_test_review)"
   ]
  },
  {
   "cell_type": "code",
   "execution_count": 34,
   "id": "a0a4db46",
   "metadata": {},
   "outputs": [],
   "source": [
    "from sklearn.metrics import classification_report"
   ]
  },
  {
   "cell_type": "code",
   "execution_count": 35,
   "id": "687da478",
   "metadata": {},
   "outputs": [
    {
     "name": "stdout",
     "output_type": "stream",
     "text": [
      "              precision    recall  f1-score   support\n",
      "\n",
      "   Nightlife       0.60      0.79      0.68        70\n",
      " Restaurants       0.96      0.86      0.91       334\n",
      "    Shopping       0.89      0.95      0.92       164\n",
      "\n",
      "    accuracy                           0.88       568\n",
      "   macro avg       0.82      0.87      0.84       568\n",
      "weighted avg       0.89      0.88      0.88       568\n",
      "\n"
     ]
    }
   ],
   "source": [
    "y_pred_simple_text_model = simple_text_model.predict(X_test_review_tfidf)\n",
    "report_simple_text_model=classification_report(y_test,y_pred_simple_text_model)\n",
    "print(report_simple_text_model)"
   ]
  },
  {
   "cell_type": "markdown",
   "id": "b69959c2",
   "metadata": {},
   "source": [
    "#### here my can see our simple_text_model(building Multinominal NB only based on \"Review\" attributes has 88% accuracy. Also, we notice that the \"Nightlife\"  has only 0.6 precision，which means this simple_text_model might not  be a good predictor on \"NightLife\" class"
   ]
  },
  {
   "cell_type": "markdown",
   "id": "ff89b091",
   "metadata": {},
   "source": [
    "## Q2： Improved model: joined model (Multinominal NB joined  Gaussian NB)"
   ]
  },
  {
   "cell_type": "markdown",
   "id": "1487946d",
   "metadata": {},
   "source": [
    "#### 1. EDA to pick num attributes"
   ]
  },
  {
   "cell_type": "code",
   "execution_count": 36,
   "id": "f788e26d",
   "metadata": {},
   "outputs": [],
   "source": [
    "num_columns = df[['latitude', 'longitude', 'mean_checkin_time']]"
   ]
  },
  {
   "cell_type": "code",
   "execution_count": 37,
   "id": "cd43410b",
   "metadata": {},
   "outputs": [],
   "source": [
    "pearson_corr = num_columns.corr(method='pearson')"
   ]
  },
  {
   "cell_type": "code",
   "execution_count": 38,
   "id": "838a67ad",
   "metadata": {},
   "outputs": [
    {
     "name": "stdout",
     "output_type": "stream",
     "text": [
      "                   latitude  longitude  mean_checkin_time\n",
      "latitude           1.000000   0.328053          -0.001915\n",
      "longitude          0.328053   1.000000          -0.026829\n",
      "mean_checkin_time -0.001915  -0.026829           1.000000\n"
     ]
    }
   ],
   "source": [
    "print(pearson_corr)"
   ]
  },
  {
   "cell_type": "code",
   "execution_count": 39,
   "id": "b9bc904c",
   "metadata": {},
   "outputs": [
    {
     "data": {
      "text/plain": [
       "<Axes: >"
      ]
     },
     "execution_count": 39,
     "metadata": {},
     "output_type": "execute_result"
    },
    {
     "data": {
      "image/png": "[encoded data removed]",
      "text/plain": [
       "<Figure size 640x480 with 2 Axes>"
      ]
     },
     "metadata": {},
     "output_type": "display_data"
    }
   ],
   "source": [
    "sns.heatmap(pearson_corr, annot=True, cmap='coolwarm', fmt=\".2f\")"
   ]
  },
  {
   "cell_type": "code",
   "execution_count": 40,
   "id": "026737d6",
   "metadata": {},
   "outputs": [
    {
     "name": "stderr",
     "output_type": "stream",
     "text": [
      "C:\\Users\\keden\\anaconda3\\Lib\\site-packages\\seaborn\\axisgrid.py:118: UserWarning: The figure layout has changed to tight\n",
      "  self._figure.tight_layout(*args, **kwargs)\n"
     ]
    },
    {
     "data": {
      "text/plain": [
       "<seaborn.axisgrid.FacetGrid at 0x16c4c815190>"
      ]
     },
     "execution_count": 40,
     "metadata": {},
     "output_type": "execute_result"
    },
    {
     "data": {
      "text/plain": [
       "<Figure size 300x300 with 0 Axes>"
      ]
     },
     "metadata": {},
     "output_type": "display_data"
    },
    {
     "data": {
      "image/png": "[encoded data removed]",
      "text/plain": [
       "<Figure size 500x500 with 1 Axes>"
      ]
     },
     "metadata": {},
     "output_type": "display_data"
    }
   ],
   "source": [
    "plt.figure(figsize=(3,3))\n",
    "sns.displot(data=df, x=\"mean_checkin_time\")"
   ]
  },
  {
   "cell_type": "code",
   "execution_count": 41,
   "id": "0f11f4c1",
   "metadata": {},
   "outputs": [],
   "source": [
    "X_num=df[[\"mean_checkin_time\"]]"
   ]
  },
  {
   "cell_type": "markdown",
   "id": "8ade94e7",
   "metadata": {},
   "source": [
    "#### 2.train test split on training dataset"
   ]
  },
  {
   "cell_type": "code",
   "execution_count": 42,
   "id": "4df95c82",
   "metadata": {},
   "outputs": [],
   "source": [
    "from sklearn.model_selection import train_test_split\n",
    "X_text_train, X_text_test, X_num_train,X_num_test,y_train, y_test\\\n",
    "= train_test_split(X_text,X_num,y, test_size=0.2, random_state=101)"
   ]
  },
  {
   "cell_type": "code",
   "execution_count": 43,
   "id": "2b33c21a",
   "metadata": {},
   "outputs": [
    {
     "data": {
      "text/plain": [
       "(2270,)"
      ]
     },
     "execution_count": 43,
     "metadata": {},
     "output_type": "execute_result"
    }
   ],
   "source": [
    "X_text_train.shape"
   ]
  },
  {
   "cell_type": "code",
   "execution_count": 44,
   "id": "70352b9d",
   "metadata": {},
   "outputs": [
    {
     "data": {
      "text/plain": [
       "(2270, 1)"
      ]
     },
     "execution_count": 44,
     "metadata": {},
     "output_type": "execute_result"
    }
   ],
   "source": [
    "X_num_train.shape"
   ]
  },
  {
   "cell_type": "code",
   "execution_count": 45,
   "id": "6a935683",
   "metadata": {},
   "outputs": [],
   "source": [
    "# X_num_train"
   ]
  },
  {
   "cell_type": "markdown",
   "id": "c828a848",
   "metadata": {},
   "source": [
    "#### 3. Model (MultinomialNB for X_text and GaussianNB for X_num)"
   ]
  },
  {
   "cell_type": "markdown",
   "id": "665da085",
   "metadata": {},
   "source": [
    "#### 3.1 text_model"
   ]
  },
  {
   "cell_type": "code",
   "execution_count": 46,
   "id": "fd33dca1",
   "metadata": {},
   "outputs": [],
   "source": [
    "from sklearn.feature_extraction.text import TfidfVectorizer\n",
    "from sklearn.naive_bayes import MultinomialNB, GaussianNB\n",
    "from sklearn.metrics import classification_report\n",
    "from sklearn.base import clone"
   ]
  },
  {
   "cell_type": "code",
   "execution_count": 47,
   "id": "bb61cb2e",
   "metadata": {},
   "outputs": [],
   "source": [
    "text_model = MultinomialNB()"
   ]
  },
  {
   "cell_type": "code",
   "execution_count": 48,
   "id": "fe852699",
   "metadata": {},
   "outputs": [
    {
     "data": {
      "text/html": [
       "<style>#sk-container-id-2 {color: black;background-color: white;}#sk-container-id-2 pre{padding: 0;}#sk-container-id-2 div.sk-toggleable {background-color: white;}#sk-container-id-2 label.sk-toggleable__label {cursor: pointer;display: block;width: 100%;margin-bottom: 0;padding: 0.3em;box-sizing: border-box;text-align: center;}#sk-container-id-2 label.sk-toggleable__label-arrow:before {content: \"▸\";float: left;margin-right: 0.25em;color: #696969;}#sk-container-id-2 label.sk-toggleable__label-arrow:hover:before {color: black;}#sk-container-id-2 div.sk-estimator:hover label.sk-toggleable__label-arrow:before {color: black;}#sk-container-id-2 div.sk-toggleable__content {max-height: 0;max-width: 0;overflow: hidden;text-align: left;background-color: #f0f8ff;}#sk-container-id-2 div.sk-toggleable__content pre {margin: 0.2em;color: black;border-radius: 0.25em;background-color: #f0f8ff;}#sk-container-id-2 input.sk-toggleable__control:checked~div.sk-toggleable__content {max-height: 200px;max-width: 100%;overflow: auto;}#sk-container-id-2 input.sk-toggleable__control:checked~label.sk-toggleable__label-arrow:before {content: \"▾\";}#sk-container-id-2 div.sk-estimator input.sk-toggleable__control:checked~label.sk-toggleable__label {background-color: #d4ebff;}#sk-container-id-2 div.sk-label input.sk-toggleable__control:checked~label.sk-toggleable__label {background-color: #d4ebff;}#sk-container-id-2 input.sk-hidden--visually {border: 0;clip: rect(1px 1px 1px 1px);clip: rect(1px, 1px, 1px, 1px);height: 1px;margin: -1px;overflow: hidden;padding: 0;position: absolute;width: 1px;}#sk-container-id-2 div.sk-estimator {font-family: monospace;background-color: #f0f8ff;border: 1px dotted black;border-radius: 0.25em;box-sizing: border-box;margin-bottom: 0.5em;}#sk-container-id-2 div.sk-estimator:hover {background-color: #d4ebff;}#sk-container-id-2 div.sk-parallel-item::after {content: \"\";width: 100%;border-bottom: 1px solid gray;flex-grow: 1;}#sk-container-id-2 div.sk-label:hover label.sk-toggleable__label {background-color: #d4ebff;}#sk-container-id-2 div.sk-serial::before {content: \"\";position: absolute;border-left: 1px solid gray;box-sizing: border-box;top: 0;bottom: 0;left: 50%;z-index: 0;}#sk-container-id-2 div.sk-serial {display: flex;flex-direction: column;align-items: center;background-color: white;padding-right: 0.2em;padding-left: 0.2em;position: relative;}#sk-container-id-2 div.sk-item {position: relative;z-index: 1;}#sk-container-id-2 div.sk-parallel {display: flex;align-items: stretch;justify-content: center;background-color: white;position: relative;}#sk-container-id-2 div.sk-item::before, #sk-container-id-2 div.sk-parallel-item::before {content: \"\";position: absolute;border-left: 1px solid gray;box-sizing: border-box;top: 0;bottom: 0;left: 50%;z-index: -1;}#sk-container-id-2 div.sk-parallel-item {display: flex;flex-direction: column;z-index: 1;position: relative;background-color: white;}#sk-container-id-2 div.sk-parallel-item:first-child::after {align-self: flex-end;width: 50%;}#sk-container-id-2 div.sk-parallel-item:last-child::after {align-self: flex-start;width: 50%;}#sk-container-id-2 div.sk-parallel-item:only-child::after {width: 0;}#sk-container-id-2 div.sk-dashed-wrapped {border: 1px dashed gray;margin: 0 0.4em 0.5em 0.4em;box-sizing: border-box;padding-bottom: 0.4em;background-color: white;}#sk-container-id-2 div.sk-label label {font-family: monospace;font-weight: bold;display: inline-block;line-height: 1.2em;}#sk-container-id-2 div.sk-label-container {text-align: center;}#sk-container-id-2 div.sk-container {/* jupyter's `normalize.less` sets `[hidden] { display: none; }` but bootstrap.min.css set `[hidden] { display: none !important; }` so we also need the `!important` here to be able to override the default hidden behavior on the sphinx rendered scikit-learn.org. See: https://github.com/scikit-learn/scikit-learn/issues/21755 */display: inline-block !important;position: relative;}#sk-container-id-2 div.sk-text-repr-fallback {display: none;}</style><div id=\"sk-container-id-2\" class=\"sk-top-container\"><div class=\"sk-text-repr-fallback\"><pre>MultinomialNB()</pre><b>In a Jupyter environment, please rerun this cell to show the HTML representation or trust the notebook. <br />On GitHub, the HTML representation is unable to render, please try loading this page with nbviewer.org.</b></div><div class=\"sk-container\" hidden><div class=\"sk-item\"><div class=\"sk-estimator sk-toggleable\"><input class=\"sk-toggleable__control sk-hidden--visually\" id=\"sk-estimator-id-2\" type=\"checkbox\" checked><label for=\"sk-estimator-id-2\" class=\"sk-toggleable__label sk-toggleable__label-arrow\">MultinomialNB</label><div class=\"sk-toggleable__content\"><pre>MultinomialNB()</pre></div></div></div></div></div>"
      ],
      "text/plain": [
       "MultinomialNB()"
      ]
     },
     "execution_count": 48,
     "metadata": {},
     "output_type": "execute_result"
    }
   ],
   "source": [
    "tfidf = TfidfVectorizer()\n",
    "X_text_train_tfidf = tfidf.fit_transform(X_text_train)\n",
    "\n",
    "smote = SMOTE(random_state=42)\n",
    "X_text_train_tfidf_smote, y_train_smote = smote.fit_resample(X_text_train_tfidf, y_train)\n",
    "\n",
    "model = clone(text_model)\n",
    "model.fit(X_text_train_tfidf_smote, y_train_smote)"
   ]
  },
  {
   "cell_type": "markdown",
   "id": "312a9a32",
   "metadata": {},
   "source": [
    "#### evaluate text_model(including review and name) on the 20% training dataset"
   ]
  },
  {
   "cell_type": "code",
   "execution_count": 49,
   "id": "4628970c",
   "metadata": {},
   "outputs": [
    {
     "name": "stdout",
     "output_type": "stream",
     "text": [
      "              precision    recall  f1-score   support\n",
      "\n",
      "   Nightlife       0.62      0.81      0.70        70\n",
      " Restaurants       0.96      0.88      0.92       334\n",
      "    Shopping       0.92      0.95      0.93       164\n",
      "\n",
      "    accuracy                           0.89       568\n",
      "   macro avg       0.83      0.88      0.85       568\n",
      "weighted avg       0.90      0.89      0.89       568\n",
      "\n"
     ]
    }
   ],
   "source": [
    "X_text_test_tfidf = tfidf.transform(X_text_test)\n",
    "y_pred = model.predict(X_text_test_tfidf)\n",
    "print(classification_report(y_test, y_pred))"
   ]
  },
  {
   "cell_type": "markdown",
   "id": "d0746cef",
   "metadata": {},
   "source": [
    "#### we notice that the \"Nightlife\" has only 0.62 precision，which means this text_model might not  be a good predictor on \"NightLife\" class, so we want to add numerical attribute\" mean_check_time\" to help improve precision on \"NightLife\"."
   ]
  },
  {
   "cell_type": "markdown",
   "id": "c254853d",
   "metadata": {},
   "source": [
    "### 3.2  numercial model:  we wannt to add this feature \"mean_checkin_time\" to fit another Gaussian NB model and combined this numeric model to our text_model to help us better classify \"restaurant\" and \"nightlife\"."
   ]
  },
  {
   "cell_type": "code",
   "execution_count": 50,
   "id": "448577c0",
   "metadata": {},
   "outputs": [],
   "source": [
    "numerical_model=GaussianNB()"
   ]
  },
  {
   "cell_type": "code",
   "execution_count": 51,
   "id": "57426c56",
   "metadata": {},
   "outputs": [],
   "source": [
    "smote = SMOTE(random_state=42)\n",
    "X_num_train_smote, y_train_smote = smote.fit_resample(X_num_train, y_train)"
   ]
  },
  {
   "cell_type": "code",
   "execution_count": 52,
   "id": "2b6d43d9",
   "metadata": {},
   "outputs": [],
   "source": [
    "cv_method = StratifiedKFold(n_splits=10, random_state=101, shuffle=True)\n",
    "scoring = ['accuracy', 'precision_macro', 'recall_macro', 'f1_macro']"
   ]
  },
  {
   "cell_type": "code",
   "execution_count": 53,
   "id": "3df7c3c8",
   "metadata": {},
   "outputs": [],
   "source": [
    "scores_numerical_model= cross_validate(\n",
    "    estimator=numerical_model,\n",
    "    X=X_num_train_smote,\n",
    "    y=y_train_smote,\n",
    "    scoring=scoring,\n",
    "    cv=cv_method,)"
   ]
  },
  {
   "cell_type": "code",
   "execution_count": 54,
   "id": "191665ae",
   "metadata": {},
   "outputs": [
    {
     "data": {
      "text/html": [
       "<div>\n",
       "<style scoped>\n",
       "    .dataframe tbody tr th:only-of-type {\n",
       "        vertical-align: middle;\n",
       "    }\n",
       "\n",
       "    .dataframe tbody tr th {\n",
       "        vertical-align: top;\n",
       "    }\n",
       "\n",
       "    .dataframe thead th {\n",
       "        text-align: right;\n",
       "    }\n",
       "</style>\n",
       "<table border=\"1\" class=\"dataframe\">\n",
       "  <thead>\n",
       "    <tr style=\"text-align: right;\">\n",
       "      <th></th>\n",
       "      <th>fit_time</th>\n",
       "      <th>score_time</th>\n",
       "      <th>test_accuracy</th>\n",
       "      <th>test_precision_macro</th>\n",
       "      <th>test_recall_macro</th>\n",
       "      <th>test_f1_macro</th>\n",
       "    </tr>\n",
       "  </thead>\n",
       "  <tbody>\n",
       "    <tr>\n",
       "      <th>0</th>\n",
       "      <td>0.011085</td>\n",
       "      <td>0.011990</td>\n",
       "      <td>0.567442</td>\n",
       "      <td>0.504525</td>\n",
       "      <td>0.566628</td>\n",
       "      <td>0.476024</td>\n",
       "    </tr>\n",
       "    <tr>\n",
       "      <th>1</th>\n",
       "      <td>0.007926</td>\n",
       "      <td>0.011076</td>\n",
       "      <td>0.572093</td>\n",
       "      <td>0.496115</td>\n",
       "      <td>0.571743</td>\n",
       "      <td>0.474262</td>\n",
       "    </tr>\n",
       "    <tr>\n",
       "      <th>2</th>\n",
       "      <td>0.008923</td>\n",
       "      <td>0.014008</td>\n",
       "      <td>0.565116</td>\n",
       "      <td>0.533437</td>\n",
       "      <td>0.566385</td>\n",
       "      <td>0.466163</td>\n",
       "    </tr>\n",
       "    <tr>\n",
       "      <th>3</th>\n",
       "      <td>0.011071</td>\n",
       "      <td>0.016010</td>\n",
       "      <td>0.545455</td>\n",
       "      <td>0.566180</td>\n",
       "      <td>0.545455</td>\n",
       "      <td>0.456853</td>\n",
       "    </tr>\n",
       "    <tr>\n",
       "      <th>4</th>\n",
       "      <td>0.010575</td>\n",
       "      <td>0.014001</td>\n",
       "      <td>0.561772</td>\n",
       "      <td>0.604503</td>\n",
       "      <td>0.561772</td>\n",
       "      <td>0.470536</td>\n",
       "    </tr>\n",
       "    <tr>\n",
       "      <th>5</th>\n",
       "      <td>0.011006</td>\n",
       "      <td>0.011957</td>\n",
       "      <td>0.540793</td>\n",
       "      <td>0.543902</td>\n",
       "      <td>0.540793</td>\n",
       "      <td>0.460878</td>\n",
       "    </tr>\n",
       "    <tr>\n",
       "      <th>6</th>\n",
       "      <td>0.009922</td>\n",
       "      <td>0.014076</td>\n",
       "      <td>0.545455</td>\n",
       "      <td>0.514908</td>\n",
       "      <td>0.545455</td>\n",
       "      <td>0.452441</td>\n",
       "    </tr>\n",
       "    <tr>\n",
       "      <th>7</th>\n",
       "      <td>0.009924</td>\n",
       "      <td>0.012003</td>\n",
       "      <td>0.557110</td>\n",
       "      <td>0.435364</td>\n",
       "      <td>0.557110</td>\n",
       "      <td>0.457106</td>\n",
       "    </tr>\n",
       "    <tr>\n",
       "      <th>8</th>\n",
       "      <td>0.010670</td>\n",
       "      <td>0.016009</td>\n",
       "      <td>0.531469</td>\n",
       "      <td>0.442661</td>\n",
       "      <td>0.531469</td>\n",
       "      <td>0.435425</td>\n",
       "    </tr>\n",
       "    <tr>\n",
       "      <th>9</th>\n",
       "      <td>0.009092</td>\n",
       "      <td>0.011908</td>\n",
       "      <td>0.575758</td>\n",
       "      <td>0.608535</td>\n",
       "      <td>0.575758</td>\n",
       "      <td>0.482428</td>\n",
       "    </tr>\n",
       "  </tbody>\n",
       "</table>\n",
       "</div>"
      ],
      "text/plain": [
       "   fit_time  score_time  test_accuracy  test_precision_macro  \\\n",
       "0  0.011085    0.011990       0.567442              0.504525   \n",
       "1  0.007926    0.011076       0.572093              0.496115   \n",
       "2  0.008923    0.014008       0.565116              0.533437   \n",
       "3  0.011071    0.016010       0.545455              0.566180   \n",
       "4  0.010575    0.014001       0.561772              0.604503   \n",
       "5  0.011006    0.011957       0.540793              0.543902   \n",
       "6  0.009922    0.014076       0.545455              0.514908   \n",
       "7  0.009924    0.012003       0.557110              0.435364   \n",
       "8  0.010670    0.016009       0.531469              0.442661   \n",
       "9  0.009092    0.011908       0.575758              0.608535   \n",
       "\n",
       "   test_recall_macro  test_f1_macro  \n",
       "0           0.566628       0.476024  \n",
       "1           0.571743       0.474262  \n",
       "2           0.566385       0.466163  \n",
       "3           0.545455       0.456853  \n",
       "4           0.561772       0.470536  \n",
       "5           0.540793       0.460878  \n",
       "6           0.545455       0.452441  \n",
       "7           0.557110       0.457106  \n",
       "8           0.531469       0.435425  \n",
       "9           0.575758       0.482428  "
      ]
     },
     "execution_count": 54,
     "metadata": {},
     "output_type": "execute_result"
    }
   ],
   "source": [
    "pd.DataFrame(scores_numerical_model)"
   ]
  },
  {
   "cell_type": "markdown",
   "id": "5fcfc500",
   "metadata": {},
   "source": [
    "### hyperparameter tuning on \"var_smoothing\" in GaussianNB"
   ]
  },
  {
   "cell_type": "code",
   "execution_count": 55,
   "id": "ada8e501",
   "metadata": {},
   "outputs": [],
   "source": [
    "from sklearn.model_selection import GridSearchCV"
   ]
  },
  {
   "cell_type": "code",
   "execution_count": 56,
   "id": "15a6582f",
   "metadata": {},
   "outputs": [],
   "source": [
    "params_NB = {'var_smoothing': np.logspace(0,-9, num=100)}"
   ]
  },
  {
   "cell_type": "code",
   "execution_count": 57,
   "id": "f95680e7",
   "metadata": {},
   "outputs": [],
   "source": [
    "cv_method = StratifiedKFold(n_splits=10, random_state=101, shuffle=True)"
   ]
  },
  {
   "cell_type": "code",
   "execution_count": 58,
   "id": "bf4a2e43",
   "metadata": {},
   "outputs": [],
   "source": [
    "gs_NB = GridSearchCV(estimator=numerical_model, param_grid=params_NB, cv=cv_method, verbose=1, scoring='accuracy')"
   ]
  },
  {
   "cell_type": "code",
   "execution_count": 59,
   "id": "47da70ee",
   "metadata": {},
   "outputs": [
    {
     "name": "stdout",
     "output_type": "stream",
     "text": [
      "Fitting 10 folds for each of 100 candidates, totalling 1000 fits\n"
     ]
    },
    {
     "data": {
      "text/html": [
       "<style>#sk-container-id-3 {color: black;background-color: white;}#sk-container-id-3 pre{padding: 0;}#sk-container-id-3 div.sk-toggleable {background-color: white;}#sk-container-id-3 label.sk-toggleable__label {cursor: pointer;display: block;width: 100%;margin-bottom: 0;padding: 0.3em;box-sizing: border-box;text-align: center;}#sk-container-id-3 label.sk-toggleable__label-arrow:before {content: \"▸\";float: left;margin-right: 0.25em;color: #696969;}#sk-container-id-3 label.sk-toggleable__label-arrow:hover:before {color: black;}#sk-container-id-3 div.sk-estimator:hover label.sk-toggleable__label-arrow:before {color: black;}#sk-container-id-3 div.sk-toggleable__content {max-height: 0;max-width: 0;overflow: hidden;text-align: left;background-color: #f0f8ff;}#sk-container-id-3 div.sk-toggleable__content pre {margin: 0.2em;color: black;border-radius: 0.25em;background-color: #f0f8ff;}#sk-container-id-3 input.sk-toggleable__control:checked~div.sk-toggleable__content {max-height: 200px;max-width: 100%;overflow: auto;}#sk-container-id-3 input.sk-toggleable__control:checked~label.sk-toggleable__label-arrow:before {content: \"▾\";}#sk-container-id-3 div.sk-estimator input.sk-toggleable__control:checked~label.sk-toggleable__label {background-color: #d4ebff;}#sk-container-id-3 div.sk-label input.sk-toggleable__control:checked~label.sk-toggleable__label {background-color: #d4ebff;}#sk-container-id-3 input.sk-hidden--visually {border: 0;clip: rect(1px 1px 1px 1px);clip: rect(1px, 1px, 1px, 1px);height: 1px;margin: -1px;overflow: hidden;padding: 0;position: absolute;width: 1px;}#sk-container-id-3 div.sk-estimator {font-family: monospace;background-color: #f0f8ff;border: 1px dotted black;border-radius: 0.25em;box-sizing: border-box;margin-bottom: 0.5em;}#sk-container-id-3 div.sk-estimator:hover {background-color: #d4ebff;}#sk-container-id-3 div.sk-parallel-item::after {content: \"\";width: 100%;border-bottom: 1px solid gray;flex-grow: 1;}#sk-container-id-3 div.sk-label:hover label.sk-toggleable__label {background-color: #d4ebff;}#sk-container-id-3 div.sk-serial::before {content: \"\";position: absolute;border-left: 1px solid gray;box-sizing: border-box;top: 0;bottom: 0;left: 50%;z-index: 0;}#sk-container-id-3 div.sk-serial {display: flex;flex-direction: column;align-items: center;background-color: white;padding-right: 0.2em;padding-left: 0.2em;position: relative;}#sk-container-id-3 div.sk-item {position: relative;z-index: 1;}#sk-container-id-3 div.sk-parallel {display: flex;align-items: stretch;justify-content: center;background-color: white;position: relative;}#sk-container-id-3 div.sk-item::before, #sk-container-id-3 div.sk-parallel-item::before {content: \"\";position: absolute;border-left: 1px solid gray;box-sizing: border-box;top: 0;bottom: 0;left: 50%;z-index: -1;}#sk-container-id-3 div.sk-parallel-item {display: flex;flex-direction: column;z-index: 1;position: relative;background-color: white;}#sk-container-id-3 div.sk-parallel-item:first-child::after {align-self: flex-end;width: 50%;}#sk-container-id-3 div.sk-parallel-item:last-child::after {align-self: flex-start;width: 50%;}#sk-container-id-3 div.sk-parallel-item:only-child::after {width: 0;}#sk-container-id-3 div.sk-dashed-wrapped {border: 1px dashed gray;margin: 0 0.4em 0.5em 0.4em;box-sizing: border-box;padding-bottom: 0.4em;background-color: white;}#sk-container-id-3 div.sk-label label {font-family: monospace;font-weight: bold;display: inline-block;line-height: 1.2em;}#sk-container-id-3 div.sk-label-container {text-align: center;}#sk-container-id-3 div.sk-container {/* jupyter's `normalize.less` sets `[hidden] { display: none; }` but bootstrap.min.css set `[hidden] { display: none !important; }` so we also need the `!important` here to be able to override the default hidden behavior on the sphinx rendered scikit-learn.org. See: https://github.com/scikit-learn/scikit-learn/issues/21755 */display: inline-block !important;position: relative;}#sk-container-id-3 div.sk-text-repr-fallback {display: none;}</style><div id=\"sk-container-id-3\" class=\"sk-top-container\"><div class=\"sk-text-repr-fallback\"><pre>GridSearchCV(cv=StratifiedKFold(n_splits=10, random_state=101, shuffle=True),\n",
       "             estimator=GaussianNB(),\n",
       "             param_grid={&#x27;var_smoothing&#x27;: array([1.00000000e+00, 8.11130831e-01, 6.57933225e-01, 5.33669923e-01,\n",
       "       4.32876128e-01, 3.51119173e-01, 2.84803587e-01, 2.31012970e-01,\n",
       "       1.87381742e-01, 1.51991108e-01, 1.23284674e-01, 1.00000000e-01,\n",
       "       8.11130831e-02, 6.57933225e-02, 5.33669...\n",
       "       1.23284674e-07, 1.00000000e-07, 8.11130831e-08, 6.57933225e-08,\n",
       "       5.33669923e-08, 4.32876128e-08, 3.51119173e-08, 2.84803587e-08,\n",
       "       2.31012970e-08, 1.87381742e-08, 1.51991108e-08, 1.23284674e-08,\n",
       "       1.00000000e-08, 8.11130831e-09, 6.57933225e-09, 5.33669923e-09,\n",
       "       4.32876128e-09, 3.51119173e-09, 2.84803587e-09, 2.31012970e-09,\n",
       "       1.87381742e-09, 1.51991108e-09, 1.23284674e-09, 1.00000000e-09])},\n",
       "             scoring=&#x27;accuracy&#x27;, verbose=1)</pre><b>In a Jupyter environment, please rerun this cell to show the HTML representation or trust the notebook. <br />On GitHub, the HTML representation is unable to render, please try loading this page with nbviewer.org.</b></div><div class=\"sk-container\" hidden><div class=\"sk-item sk-dashed-wrapped\"><div class=\"sk-label-container\"><div class=\"sk-label sk-toggleable\"><input class=\"sk-toggleable__control sk-hidden--visually\" id=\"sk-estimator-id-3\" type=\"checkbox\" ><label for=\"sk-estimator-id-3\" class=\"sk-toggleable__label sk-toggleable__label-arrow\">GridSearchCV</label><div class=\"sk-toggleable__content\"><pre>GridSearchCV(cv=StratifiedKFold(n_splits=10, random_state=101, shuffle=True),\n",
       "             estimator=GaussianNB(),\n",
       "             param_grid={&#x27;var_smoothing&#x27;: array([1.00000000e+00, 8.11130831e-01, 6.57933225e-01, 5.33669923e-01,\n",
       "       4.32876128e-01, 3.51119173e-01, 2.84803587e-01, 2.31012970e-01,\n",
       "       1.87381742e-01, 1.51991108e-01, 1.23284674e-01, 1.00000000e-01,\n",
       "       8.11130831e-02, 6.57933225e-02, 5.33669...\n",
       "       1.23284674e-07, 1.00000000e-07, 8.11130831e-08, 6.57933225e-08,\n",
       "       5.33669923e-08, 4.32876128e-08, 3.51119173e-08, 2.84803587e-08,\n",
       "       2.31012970e-08, 1.87381742e-08, 1.51991108e-08, 1.23284674e-08,\n",
       "       1.00000000e-08, 8.11130831e-09, 6.57933225e-09, 5.33669923e-09,\n",
       "       4.32876128e-09, 3.51119173e-09, 2.84803587e-09, 2.31012970e-09,\n",
       "       1.87381742e-09, 1.51991108e-09, 1.23284674e-09, 1.00000000e-09])},\n",
       "             scoring=&#x27;accuracy&#x27;, verbose=1)</pre></div></div></div><div class=\"sk-parallel\"><div class=\"sk-parallel-item\"><div class=\"sk-item\"><div class=\"sk-label-container\"><div class=\"sk-label sk-toggleable\"><input class=\"sk-toggleable__control sk-hidden--visually\" id=\"sk-estimator-id-4\" type=\"checkbox\" ><label for=\"sk-estimator-id-4\" class=\"sk-toggleable__label sk-toggleable__label-arrow\">estimator: GaussianNB</label><div class=\"sk-toggleable__content\"><pre>GaussianNB()</pre></div></div></div><div class=\"sk-serial\"><div class=\"sk-item\"><div class=\"sk-estimator sk-toggleable\"><input class=\"sk-toggleable__control sk-hidden--visually\" id=\"sk-estimator-id-5\" type=\"checkbox\" ><label for=\"sk-estimator-id-5\" class=\"sk-toggleable__label sk-toggleable__label-arrow\">GaussianNB</label><div class=\"sk-toggleable__content\"><pre>GaussianNB()</pre></div></div></div></div></div></div></div></div></div></div>"
      ],
      "text/plain": [
       "GridSearchCV(cv=StratifiedKFold(n_splits=10, random_state=101, shuffle=True),\n",
       "             estimator=GaussianNB(),\n",
       "             param_grid={'var_smoothing': array([1.00000000e+00, 8.11130831e-01, 6.57933225e-01, 5.33669923e-01,\n",
       "       4.32876128e-01, 3.51119173e-01, 2.84803587e-01, 2.31012970e-01,\n",
       "       1.87381742e-01, 1.51991108e-01, 1.23284674e-01, 1.00000000e-01,\n",
       "       8.11130831e-02, 6.57933225e-02, 5.33669...\n",
       "       1.23284674e-07, 1.00000000e-07, 8.11130831e-08, 6.57933225e-08,\n",
       "       5.33669923e-08, 4.32876128e-08, 3.51119173e-08, 2.84803587e-08,\n",
       "       2.31012970e-08, 1.87381742e-08, 1.51991108e-08, 1.23284674e-08,\n",
       "       1.00000000e-08, 8.11130831e-09, 6.57933225e-09, 5.33669923e-09,\n",
       "       4.32876128e-09, 3.51119173e-09, 2.84803587e-09, 2.31012970e-09,\n",
       "       1.87381742e-09, 1.51991108e-09, 1.23284674e-09, 1.00000000e-09])},\n",
       "             scoring='accuracy', verbose=1)"
      ]
     },
     "execution_count": 59,
     "metadata": {},
     "output_type": "execute_result"
    }
   ],
   "source": [
    "gs_NB.fit(X_num_train_smote, y_train_smote)"
   ]
  },
  {
   "cell_type": "code",
   "execution_count": 60,
   "id": "5a759827",
   "metadata": {},
   "outputs": [
    {
     "name": "stdout",
     "output_type": "stream",
     "text": [
      "Best parameters: {'var_smoothing': 0.1873817422860384}\n",
      "Best score: 0.5564791022930559\n"
     ]
    }
   ],
   "source": [
    "print(\"Best parameters:\", gs_NB.best_params_)\n",
    "print(\"Best score:\", gs_NB.best_score_)"
   ]
  },
  {
   "cell_type": "code",
   "execution_count": 61,
   "id": "2a94a066",
   "metadata": {},
   "outputs": [],
   "source": [
    "numerical_model= GaussianNB(var_smoothing=0.1873817422860384)"
   ]
  },
  {
   "cell_type": "markdown",
   "id": "143428f5",
   "metadata": {},
   "source": [
    "### 3.3 joined model (combined text_model : MultinomialNB and numerical_model: GaussianNB) by multiply"
   ]
  },
  {
   "cell_type": "code",
   "execution_count": 62,
   "id": "af4c5d08",
   "metadata": {},
   "outputs": [
    {
     "data": {
      "text/html": [
       "<style>#sk-container-id-4 {color: black;background-color: white;}#sk-container-id-4 pre{padding: 0;}#sk-container-id-4 div.sk-toggleable {background-color: white;}#sk-container-id-4 label.sk-toggleable__label {cursor: pointer;display: block;width: 100%;margin-bottom: 0;padding: 0.3em;box-sizing: border-box;text-align: center;}#sk-container-id-4 label.sk-toggleable__label-arrow:before {content: \"▸\";float: left;margin-right: 0.25em;color: #696969;}#sk-container-id-4 label.sk-toggleable__label-arrow:hover:before {color: black;}#sk-container-id-4 div.sk-estimator:hover label.sk-toggleable__label-arrow:before {color: black;}#sk-container-id-4 div.sk-toggleable__content {max-height: 0;max-width: 0;overflow: hidden;text-align: left;background-color: #f0f8ff;}#sk-container-id-4 div.sk-toggleable__content pre {margin: 0.2em;color: black;border-radius: 0.25em;background-color: #f0f8ff;}#sk-container-id-4 input.sk-toggleable__control:checked~div.sk-toggleable__content {max-height: 200px;max-width: 100%;overflow: auto;}#sk-container-id-4 input.sk-toggleable__control:checked~label.sk-toggleable__label-arrow:before {content: \"▾\";}#sk-container-id-4 div.sk-estimator input.sk-toggleable__control:checked~label.sk-toggleable__label {background-color: #d4ebff;}#sk-container-id-4 div.sk-label input.sk-toggleable__control:checked~label.sk-toggleable__label {background-color: #d4ebff;}#sk-container-id-4 input.sk-hidden--visually {border: 0;clip: rect(1px 1px 1px 1px);clip: rect(1px, 1px, 1px, 1px);height: 1px;margin: -1px;overflow: hidden;padding: 0;position: absolute;width: 1px;}#sk-container-id-4 div.sk-estimator {font-family: monospace;background-color: #f0f8ff;border: 1px dotted black;border-radius: 0.25em;box-sizing: border-box;margin-bottom: 0.5em;}#sk-container-id-4 div.sk-estimator:hover {background-color: #d4ebff;}#sk-container-id-4 div.sk-parallel-item::after {content: \"\";width: 100%;border-bottom: 1px solid gray;flex-grow: 1;}#sk-container-id-4 div.sk-label:hover label.sk-toggleable__label {background-color: #d4ebff;}#sk-container-id-4 div.sk-serial::before {content: \"\";position: absolute;border-left: 1px solid gray;box-sizing: border-box;top: 0;bottom: 0;left: 50%;z-index: 0;}#sk-container-id-4 div.sk-serial {display: flex;flex-direction: column;align-items: center;background-color: white;padding-right: 0.2em;padding-left: 0.2em;position: relative;}#sk-container-id-4 div.sk-item {position: relative;z-index: 1;}#sk-container-id-4 div.sk-parallel {display: flex;align-items: stretch;justify-content: center;background-color: white;position: relative;}#sk-container-id-4 div.sk-item::before, #sk-container-id-4 div.sk-parallel-item::before {content: \"\";position: absolute;border-left: 1px solid gray;box-sizing: border-box;top: 0;bottom: 0;left: 50%;z-index: -1;}#sk-container-id-4 div.sk-parallel-item {display: flex;flex-direction: column;z-index: 1;position: relative;background-color: white;}#sk-container-id-4 div.sk-parallel-item:first-child::after {align-self: flex-end;width: 50%;}#sk-container-id-4 div.sk-parallel-item:last-child::after {align-self: flex-start;width: 50%;}#sk-container-id-4 div.sk-parallel-item:only-child::after {width: 0;}#sk-container-id-4 div.sk-dashed-wrapped {border: 1px dashed gray;margin: 0 0.4em 0.5em 0.4em;box-sizing: border-box;padding-bottom: 0.4em;background-color: white;}#sk-container-id-4 div.sk-label label {font-family: monospace;font-weight: bold;display: inline-block;line-height: 1.2em;}#sk-container-id-4 div.sk-label-container {text-align: center;}#sk-container-id-4 div.sk-container {/* jupyter's `normalize.less` sets `[hidden] { display: none; }` but bootstrap.min.css set `[hidden] { display: none !important; }` so we also need the `!important` here to be able to override the default hidden behavior on the sphinx rendered scikit-learn.org. See: https://github.com/scikit-learn/scikit-learn/issues/21755 */display: inline-block !important;position: relative;}#sk-container-id-4 div.sk-text-repr-fallback {display: none;}</style><div id=\"sk-container-id-4\" class=\"sk-top-container\"><div class=\"sk-text-repr-fallback\"><pre>MultinomialNB()</pre><b>In a Jupyter environment, please rerun this cell to show the HTML representation or trust the notebook. <br />On GitHub, the HTML representation is unable to render, please try loading this page with nbviewer.org.</b></div><div class=\"sk-container\" hidden><div class=\"sk-item\"><div class=\"sk-estimator sk-toggleable\"><input class=\"sk-toggleable__control sk-hidden--visually\" id=\"sk-estimator-id-6\" type=\"checkbox\" checked><label for=\"sk-estimator-id-6\" class=\"sk-toggleable__label sk-toggleable__label-arrow\">MultinomialNB</label><div class=\"sk-toggleable__content\"><pre>MultinomialNB()</pre></div></div></div></div></div>"
      ],
      "text/plain": [
       "MultinomialNB()"
      ]
     },
     "execution_count": 62,
     "metadata": {},
     "output_type": "execute_result"
    }
   ],
   "source": [
    "text_model.fit(X_text_train_tfidf_smote, y_train_smote)"
   ]
  },
  {
   "cell_type": "code",
   "execution_count": 63,
   "id": "15e1aa78",
   "metadata": {},
   "outputs": [
    {
     "data": {
      "text/html": [
       "<style>#sk-container-id-5 {color: black;background-color: white;}#sk-container-id-5 pre{padding: 0;}#sk-container-id-5 div.sk-toggleable {background-color: white;}#sk-container-id-5 label.sk-toggleable__label {cursor: pointer;display: block;width: 100%;margin-bottom: 0;padding: 0.3em;box-sizing: border-box;text-align: center;}#sk-container-id-5 label.sk-toggleable__label-arrow:before {content: \"▸\";float: left;margin-right: 0.25em;color: #696969;}#sk-container-id-5 label.sk-toggleable__label-arrow:hover:before {color: black;}#sk-container-id-5 div.sk-estimator:hover label.sk-toggleable__label-arrow:before {color: black;}#sk-container-id-5 div.sk-toggleable__content {max-height: 0;max-width: 0;overflow: hidden;text-align: left;background-color: #f0f8ff;}#sk-container-id-5 div.sk-toggleable__content pre {margin: 0.2em;color: black;border-radius: 0.25em;background-color: #f0f8ff;}#sk-container-id-5 input.sk-toggleable__control:checked~div.sk-toggleable__content {max-height: 200px;max-width: 100%;overflow: auto;}#sk-container-id-5 input.sk-toggleable__control:checked~label.sk-toggleable__label-arrow:before {content: \"▾\";}#sk-container-id-5 div.sk-estimator input.sk-toggleable__control:checked~label.sk-toggleable__label {background-color: #d4ebff;}#sk-container-id-5 div.sk-label input.sk-toggleable__control:checked~label.sk-toggleable__label {background-color: #d4ebff;}#sk-container-id-5 input.sk-hidden--visually {border: 0;clip: rect(1px 1px 1px 1px);clip: rect(1px, 1px, 1px, 1px);height: 1px;margin: -1px;overflow: hidden;padding: 0;position: absolute;width: 1px;}#sk-container-id-5 div.sk-estimator {font-family: monospace;background-color: #f0f8ff;border: 1px dotted black;border-radius: 0.25em;box-sizing: border-box;margin-bottom: 0.5em;}#sk-container-id-5 div.sk-estimator:hover {background-color: #d4ebff;}#sk-container-id-5 div.sk-parallel-item::after {content: \"\";width: 100%;border-bottom: 1px solid gray;flex-grow: 1;}#sk-container-id-5 div.sk-label:hover label.sk-toggleable__label {background-color: #d4ebff;}#sk-container-id-5 div.sk-serial::before {content: \"\";position: absolute;border-left: 1px solid gray;box-sizing: border-box;top: 0;bottom: 0;left: 50%;z-index: 0;}#sk-container-id-5 div.sk-serial {display: flex;flex-direction: column;align-items: center;background-color: white;padding-right: 0.2em;padding-left: 0.2em;position: relative;}#sk-container-id-5 div.sk-item {position: relative;z-index: 1;}#sk-container-id-5 div.sk-parallel {display: flex;align-items: stretch;justify-content: center;background-color: white;position: relative;}#sk-container-id-5 div.sk-item::before, #sk-container-id-5 div.sk-parallel-item::before {content: \"\";position: absolute;border-left: 1px solid gray;box-sizing: border-box;top: 0;bottom: 0;left: 50%;z-index: -1;}#sk-container-id-5 div.sk-parallel-item {display: flex;flex-direction: column;z-index: 1;position: relative;background-color: white;}#sk-container-id-5 div.sk-parallel-item:first-child::after {align-self: flex-end;width: 50%;}#sk-container-id-5 div.sk-parallel-item:last-child::after {align-self: flex-start;width: 50%;}#sk-container-id-5 div.sk-parallel-item:only-child::after {width: 0;}#sk-container-id-5 div.sk-dashed-wrapped {border: 1px dashed gray;margin: 0 0.4em 0.5em 0.4em;box-sizing: border-box;padding-bottom: 0.4em;background-color: white;}#sk-container-id-5 div.sk-label label {font-family: monospace;font-weight: bold;display: inline-block;line-height: 1.2em;}#sk-container-id-5 div.sk-label-container {text-align: center;}#sk-container-id-5 div.sk-container {/* jupyter's `normalize.less` sets `[hidden] { display: none; }` but bootstrap.min.css set `[hidden] { display: none !important; }` so we also need the `!important` here to be able to override the default hidden behavior on the sphinx rendered scikit-learn.org. See: https://github.com/scikit-learn/scikit-learn/issues/21755 */display: inline-block !important;position: relative;}#sk-container-id-5 div.sk-text-repr-fallback {display: none;}</style><div id=\"sk-container-id-5\" class=\"sk-top-container\"><div class=\"sk-text-repr-fallback\"><pre>GaussianNB(var_smoothing=0.1873817422860384)</pre><b>In a Jupyter environment, please rerun this cell to show the HTML representation or trust the notebook. <br />On GitHub, the HTML representation is unable to render, please try loading this page with nbviewer.org.</b></div><div class=\"sk-container\" hidden><div class=\"sk-item\"><div class=\"sk-estimator sk-toggleable\"><input class=\"sk-toggleable__control sk-hidden--visually\" id=\"sk-estimator-id-7\" type=\"checkbox\" checked><label for=\"sk-estimator-id-7\" class=\"sk-toggleable__label sk-toggleable__label-arrow\">GaussianNB</label><div class=\"sk-toggleable__content\"><pre>GaussianNB(var_smoothing=0.1873817422860384)</pre></div></div></div></div></div>"
      ],
      "text/plain": [
       "GaussianNB(var_smoothing=0.1873817422860384)"
      ]
     },
     "execution_count": 63,
     "metadata": {},
     "output_type": "execute_result"
    }
   ],
   "source": [
    "numerical_model.fit(X_num_train_smote,y_train_smote)"
   ]
  },
  {
   "cell_type": "code",
   "execution_count": 64,
   "id": "ffe42ded",
   "metadata": {},
   "outputs": [],
   "source": [
    "text_prob=text_model.predict_proba(X_text_test_tfidf)"
   ]
  },
  {
   "cell_type": "code",
   "execution_count": 65,
   "id": "19f9f2fc",
   "metadata": {},
   "outputs": [
    {
     "data": {
      "text/plain": [
       "array([[0.14344528, 0.75626572, 0.100289  ],\n",
       "       [0.0577327 , 0.77497394, 0.16729337],\n",
       "       [0.03345531, 0.9611652 , 0.00537949],\n",
       "       ...,\n",
       "       [0.05320913, 0.93132135, 0.01546953],\n",
       "       [0.12297559, 0.77717495, 0.09984946],\n",
       "       [0.25209082, 0.10911262, 0.63879656]])"
      ]
     },
     "execution_count": 65,
     "metadata": {},
     "output_type": "execute_result"
    }
   ],
   "source": [
    "text_prob"
   ]
  },
  {
   "cell_type": "code",
   "execution_count": 66,
   "id": "ff996706",
   "metadata": {},
   "outputs": [],
   "source": [
    "numerical_prob=numerical_model.predict_proba(X_num_test)"
   ]
  },
  {
   "cell_type": "code",
   "execution_count": 67,
   "id": "27236d33",
   "metadata": {},
   "outputs": [
    {
     "data": {
      "text/plain": [
       "array([[0.15491956, 0.31565873, 0.52942171],\n",
       "       [0.11661118, 0.29842488, 0.58496394],\n",
       "       [0.13367008, 0.30529832, 0.5610316 ],\n",
       "       [0.13367008, 0.30529832, 0.5610316 ],\n",
       "       [0.10944583, 0.29643608, 0.59411809],\n",
       "       [0.15491956, 0.31565873, 0.52942171],\n",
       "       [0.13367008, 0.30529832, 0.5610316 ],\n",
       "       [0.65079385, 0.32661479, 0.02259135],\n",
       "       [0.72450667, 0.26959104, 0.00590229],\n",
       "       [0.2124218 , 0.34405765, 0.44352055]])"
      ]
     },
     "execution_count": 67,
     "metadata": {},
     "output_type": "execute_result"
    }
   ],
   "source": [
    "numerical_prob[:10]"
   ]
  },
  {
   "cell_type": "code",
   "execution_count": 68,
   "id": "944943b5",
   "metadata": {},
   "outputs": [],
   "source": [
    "joined_proba=text_prob*numerical_prob"
   ]
  },
  {
   "cell_type": "code",
   "execution_count": 69,
   "id": "23ab1211",
   "metadata": {},
   "outputs": [
    {
     "data": {
      "text/plain": [
       "array([[0.02222248, 0.23872188, 0.05309517],\n",
       "       [0.00673228, 0.2312715 , 0.09786059],\n",
       "       [0.00447197, 0.29344212, 0.00301806],\n",
       "       [0.02718584, 0.23430514, 0.01635793],\n",
       "       [0.00260689, 0.01382448, 0.55225974],\n",
       "       [0.0613852 , 0.08000629, 0.18545782],\n",
       "       [0.02135056, 0.21883018, 0.06928702],\n",
       "       [0.5537488 , 0.02319268, 0.00176458],\n",
       "       [0.32224579, 0.0887314 , 0.00133443],\n",
       "       [0.02476169, 0.29243675, 0.01484334]])"
      ]
     },
     "execution_count": 69,
     "metadata": {},
     "output_type": "execute_result"
    }
   ],
   "source": [
    "joined_proba[:10]"
   ]
  },
  {
   "cell_type": "code",
   "execution_count": 70,
   "id": "8aee2769",
   "metadata": {},
   "outputs": [],
   "source": [
    "y_pred_index_joined= np.argmax(joined_proba, axis=1)"
   ]
  },
  {
   "cell_type": "code",
   "execution_count": 71,
   "id": "76ffdc06",
   "metadata": {},
   "outputs": [],
   "source": [
    "class_labels=[\"Nightlife\",\"Restaurants\",\"Shopping\"]\n",
    "y_pred_label_joined=[class_labels[i] for i in y_pred_index_joined]"
   ]
  },
  {
   "cell_type": "code",
   "execution_count": 108,
   "id": "bb14e02d",
   "metadata": {},
   "outputs": [],
   "source": [
    "# y_pred_label_joined"
   ]
  },
  {
   "cell_type": "code",
   "execution_count": 72,
   "id": "52f94e9b",
   "metadata": {},
   "outputs": [
    {
     "name": "stdout",
     "output_type": "stream",
     "text": [
      "              precision    recall  f1-score   support\n",
      "\n",
      "   Nightlife       0.66      0.84      0.74        70\n",
      " Restaurants       0.98      0.85      0.91       334\n",
      "    Shopping       0.84      0.97      0.90       164\n",
      "\n",
      "    accuracy                           0.88       568\n",
      "   macro avg       0.83      0.89      0.85       568\n",
      "weighted avg       0.90      0.88      0.89       568\n",
      "\n"
     ]
    }
   ],
   "source": [
    "from sklearn.metrics import classification_report\n",
    "report_joined_model=classification_report(y_test,y_pred_label_joined)\n",
    "print(report_joined_model)"
   ]
  },
  {
   "cell_type": "code",
   "execution_count": 100,
   "id": "5e52f338",
   "metadata": {},
   "outputs": [
    {
     "data": {
      "text/plain": [
       "array([[0.02222248, 0.23872188, 0.05309517],\n",
       "       [0.00673228, 0.2312715 , 0.09786059],\n",
       "       [0.00447197, 0.29344212, 0.00301806],\n",
       "       ...,\n",
       "       [0.00824313, 0.29397972, 0.0081899 ],\n",
       "       [0.02225878, 0.25559955, 0.04893777],\n",
       "       [0.04941548, 0.03669427, 0.29875255]])"
      ]
     },
     "execution_count": 100,
     "metadata": {},
     "output_type": "execute_result"
    }
   ],
   "source": [
    "joined_proba"
   ]
  },
  {
   "cell_type": "code",
   "execution_count": 101,
   "id": "2c99a1d1",
   "metadata": {},
   "outputs": [
    {
     "data": {
      "text/plain": [
       "array([[0.14344528, 0.75626572, 0.100289  ],\n",
       "       [0.0577327 , 0.77497394, 0.16729337],\n",
       "       [0.03345531, 0.9611652 , 0.00537949],\n",
       "       ...,\n",
       "       [0.05320913, 0.93132135, 0.01546953],\n",
       "       [0.12297559, 0.77717495, 0.09984946],\n",
       "       [0.25209082, 0.10911262, 0.63879656]])"
      ]
     },
     "execution_count": 101,
     "metadata": {},
     "output_type": "execute_result"
    }
   ],
   "source": [
    "text_prob."
   ]
  },
  {
   "cell_type": "code",
   "execution_count": 103,
   "id": "e0cbc807",
   "metadata": {},
   "outputs": [
    {
     "data": {
      "text/plain": [
       "array(['Nightlife', 'Restaurants', 'Shopping'], dtype='<U11')"
      ]
     },
     "execution_count": 103,
     "metadata": {},
     "output_type": "execute_result"
    }
   ],
   "source": [
    "text_model.classes_"
   ]
  },
  {
   "cell_type": "markdown",
   "id": "a1a11fc2",
   "metadata": {},
   "source": [
    "### 3.4 adjust joined model"
   ]
  },
  {
   "cell_type": "code",
   "execution_count": 104,
   "id": "5395bc4b",
   "metadata": {},
   "outputs": [],
   "source": [
    "def final_predict(text_prob, joined_proba):\n",
    "    final_predictions = []\n",
    "    for i in range(text_prob.shape[0]):\n",
    "        # chech if the shopping class get highest score in text_model, if yes, we choose this highest proba and predict it as \"Shopping\"\n",
    "        if text_prob[i][2] > max(text_prob[i][0], text_prob[i][1]):\n",
    "            final_predictions.append(\"Shopping\")\n",
    "        else:\n",
    "            # if shopping class not get highest score in text_model, then we look at our joined proba and choose the highest prob\n",
    "            if joined_proba[i][0] > joined_proba[i][1]:\n",
    "                final_predictions.append(\"Nightlife\")\n",
    "            else:\n",
    "                final_predictions.append(\"Restaurants\")\n",
    "\n",
    "    return final_predictions"
   ]
  },
  {
   "cell_type": "code",
   "execution_count": 106,
   "id": "04157768",
   "metadata": {},
   "outputs": [],
   "source": [
    "y_pred_final=final_predict(text_prob, joined_proba)"
   ]
  },
  {
   "cell_type": "markdown",
   "id": "2158eff5",
   "metadata": {},
   "source": [
    "#### Evaluate this adjusted joined model using 20% training dataset, and we notice that compared to joined model, we get higher precision on each classes, and not compromise the precision of shopping class of the text_model. Finally, we  get a accuracy of 90%, we think it is ok, so we decide to use this adjusted joined model to predict our test dataset。"
   ]
  },
  {
   "cell_type": "code",
   "execution_count": 107,
   "id": "50e1cd50",
   "metadata": {},
   "outputs": [
    {
     "name": "stdout",
     "output_type": "stream",
     "text": [
      "              precision    recall  f1-score   support\n",
      "\n",
      "   Nightlife       0.69      0.84      0.76        70\n",
      " Restaurants       0.96      0.90      0.92       334\n",
      "    Shopping       0.92      0.95      0.93       164\n",
      "\n",
      "    accuracy                           0.90       568\n",
      "   macro avg       0.85      0.89      0.87       568\n",
      "weighted avg       0.91      0.90      0.91       568\n",
      "\n"
     ]
    }
   ],
   "source": [
    "report_final_model=classification_report(y_test,y_pred_final)\n",
    "print(report_final_model)"
   ]
  },
  {
   "cell_type": "markdown",
   "id": "a4fa4543",
   "metadata": {},
   "source": [
    "#### first we need to use the adjusted joined model to retrain all the training dataset."
   ]
  },
  {
   "cell_type": "markdown",
   "id": "a0a753c5",
   "metadata": {},
   "source": [
    "### 4.retrain the model using all training dataset"
   ]
  },
  {
   "cell_type": "code",
   "execution_count": 134,
   "id": "13415264",
   "metadata": {},
   "outputs": [],
   "source": [
    "X_text_tfidf = tfidf.fit_transform(X_text)"
   ]
  },
  {
   "cell_type": "code",
   "execution_count": 135,
   "id": "fb7bfa18",
   "metadata": {},
   "outputs": [
    {
     "data": {
      "text/html": [
       "<style>#sk-container-id-9 {color: black;background-color: white;}#sk-container-id-9 pre{padding: 0;}#sk-container-id-9 div.sk-toggleable {background-color: white;}#sk-container-id-9 label.sk-toggleable__label {cursor: pointer;display: block;width: 100%;margin-bottom: 0;padding: 0.3em;box-sizing: border-box;text-align: center;}#sk-container-id-9 label.sk-toggleable__label-arrow:before {content: \"▸\";float: left;margin-right: 0.25em;color: #696969;}#sk-container-id-9 label.sk-toggleable__label-arrow:hover:before {color: black;}#sk-container-id-9 div.sk-estimator:hover label.sk-toggleable__label-arrow:before {color: black;}#sk-container-id-9 div.sk-toggleable__content {max-height: 0;max-width: 0;overflow: hidden;text-align: left;background-color: #f0f8ff;}#sk-container-id-9 div.sk-toggleable__content pre {margin: 0.2em;color: black;border-radius: 0.25em;background-color: #f0f8ff;}#sk-container-id-9 input.sk-toggleable__control:checked~div.sk-toggleable__content {max-height: 200px;max-width: 100%;overflow: auto;}#sk-container-id-9 input.sk-toggleable__control:checked~label.sk-toggleable__label-arrow:before {content: \"▾\";}#sk-container-id-9 div.sk-estimator input.sk-toggleable__control:checked~label.sk-toggleable__label {background-color: #d4ebff;}#sk-container-id-9 div.sk-label input.sk-toggleable__control:checked~label.sk-toggleable__label {background-color: #d4ebff;}#sk-container-id-9 input.sk-hidden--visually {border: 0;clip: rect(1px 1px 1px 1px);clip: rect(1px, 1px, 1px, 1px);height: 1px;margin: -1px;overflow: hidden;padding: 0;position: absolute;width: 1px;}#sk-container-id-9 div.sk-estimator {font-family: monospace;background-color: #f0f8ff;border: 1px dotted black;border-radius: 0.25em;box-sizing: border-box;margin-bottom: 0.5em;}#sk-container-id-9 div.sk-estimator:hover {background-color: #d4ebff;}#sk-container-id-9 div.sk-parallel-item::after {content: \"\";width: 100%;border-bottom: 1px solid gray;flex-grow: 1;}#sk-container-id-9 div.sk-label:hover label.sk-toggleable__label {background-color: #d4ebff;}#sk-container-id-9 div.sk-serial::before {content: \"\";position: absolute;border-left: 1px solid gray;box-sizing: border-box;top: 0;bottom: 0;left: 50%;z-index: 0;}#sk-container-id-9 div.sk-serial {display: flex;flex-direction: column;align-items: center;background-color: white;padding-right: 0.2em;padding-left: 0.2em;position: relative;}#sk-container-id-9 div.sk-item {position: relative;z-index: 1;}#sk-container-id-9 div.sk-parallel {display: flex;align-items: stretch;justify-content: center;background-color: white;position: relative;}#sk-container-id-9 div.sk-item::before, #sk-container-id-9 div.sk-parallel-item::before {content: \"\";position: absolute;border-left: 1px solid gray;box-sizing: border-box;top: 0;bottom: 0;left: 50%;z-index: -1;}#sk-container-id-9 div.sk-parallel-item {display: flex;flex-direction: column;z-index: 1;position: relative;background-color: white;}#sk-container-id-9 div.sk-parallel-item:first-child::after {align-self: flex-end;width: 50%;}#sk-container-id-9 div.sk-parallel-item:last-child::after {align-self: flex-start;width: 50%;}#sk-container-id-9 div.sk-parallel-item:only-child::after {width: 0;}#sk-container-id-9 div.sk-dashed-wrapped {border: 1px dashed gray;margin: 0 0.4em 0.5em 0.4em;box-sizing: border-box;padding-bottom: 0.4em;background-color: white;}#sk-container-id-9 div.sk-label label {font-family: monospace;font-weight: bold;display: inline-block;line-height: 1.2em;}#sk-container-id-9 div.sk-label-container {text-align: center;}#sk-container-id-9 div.sk-container {/* jupyter's `normalize.less` sets `[hidden] { display: none; }` but bootstrap.min.css set `[hidden] { display: none !important; }` so we also need the `!important` here to be able to override the default hidden behavior on the sphinx rendered scikit-learn.org. See: https://github.com/scikit-learn/scikit-learn/issues/21755 */display: inline-block !important;position: relative;}#sk-container-id-9 div.sk-text-repr-fallback {display: none;}</style><div id=\"sk-container-id-9\" class=\"sk-top-container\"><div class=\"sk-text-repr-fallback\"><pre>MultinomialNB()</pre><b>In a Jupyter environment, please rerun this cell to show the HTML representation or trust the notebook. <br />On GitHub, the HTML representation is unable to render, please try loading this page with nbviewer.org.</b></div><div class=\"sk-container\" hidden><div class=\"sk-item\"><div class=\"sk-estimator sk-toggleable\"><input class=\"sk-toggleable__control sk-hidden--visually\" id=\"sk-estimator-id-11\" type=\"checkbox\" checked><label for=\"sk-estimator-id-11\" class=\"sk-toggleable__label sk-toggleable__label-arrow\">MultinomialNB</label><div class=\"sk-toggleable__content\"><pre>MultinomialNB()</pre></div></div></div></div></div>"
      ],
      "text/plain": [
       "MultinomialNB()"
      ]
     },
     "execution_count": 135,
     "metadata": {},
     "output_type": "execute_result"
    }
   ],
   "source": [
    "smote = SMOTE(random_state=42)\n",
    "X_text_tfidf_smote, y_smote = smote.fit_resample(X_text_tfidf, y)\n",
    "\n",
    "text_model_final=MultinomialNB()\n",
    "text_model_final.fit(X_text_tfidf_smote,y_smote)"
   ]
  },
  {
   "cell_type": "code",
   "execution_count": 136,
   "id": "20cd876b",
   "metadata": {},
   "outputs": [
    {
     "data": {
      "text/html": [
       "<style>#sk-container-id-10 {color: black;background-color: white;}#sk-container-id-10 pre{padding: 0;}#sk-container-id-10 div.sk-toggleable {background-color: white;}#sk-container-id-10 label.sk-toggleable__label {cursor: pointer;display: block;width: 100%;margin-bottom: 0;padding: 0.3em;box-sizing: border-box;text-align: center;}#sk-container-id-10 label.sk-toggleable__label-arrow:before {content: \"▸\";float: left;margin-right: 0.25em;color: #696969;}#sk-container-id-10 label.sk-toggleable__label-arrow:hover:before {color: black;}#sk-container-id-10 div.sk-estimator:hover label.sk-toggleable__label-arrow:before {color: black;}#sk-container-id-10 div.sk-toggleable__content {max-height: 0;max-width: 0;overflow: hidden;text-align: left;background-color: #f0f8ff;}#sk-container-id-10 div.sk-toggleable__content pre {margin: 0.2em;color: black;border-radius: 0.25em;background-color: #f0f8ff;}#sk-container-id-10 input.sk-toggleable__control:checked~div.sk-toggleable__content {max-height: 200px;max-width: 100%;overflow: auto;}#sk-container-id-10 input.sk-toggleable__control:checked~label.sk-toggleable__label-arrow:before {content: \"▾\";}#sk-container-id-10 div.sk-estimator input.sk-toggleable__control:checked~label.sk-toggleable__label {background-color: #d4ebff;}#sk-container-id-10 div.sk-label input.sk-toggleable__control:checked~label.sk-toggleable__label {background-color: #d4ebff;}#sk-container-id-10 input.sk-hidden--visually {border: 0;clip: rect(1px 1px 1px 1px);clip: rect(1px, 1px, 1px, 1px);height: 1px;margin: -1px;overflow: hidden;padding: 0;position: absolute;width: 1px;}#sk-container-id-10 div.sk-estimator {font-family: monospace;background-color: #f0f8ff;border: 1px dotted black;border-radius: 0.25em;box-sizing: border-box;margin-bottom: 0.5em;}#sk-container-id-10 div.sk-estimator:hover {background-color: #d4ebff;}#sk-container-id-10 div.sk-parallel-item::after {content: \"\";width: 100%;border-bottom: 1px solid gray;flex-grow: 1;}#sk-container-id-10 div.sk-label:hover label.sk-toggleable__label {background-color: #d4ebff;}#sk-container-id-10 div.sk-serial::before {content: \"\";position: absolute;border-left: 1px solid gray;box-sizing: border-box;top: 0;bottom: 0;left: 50%;z-index: 0;}#sk-container-id-10 div.sk-serial {display: flex;flex-direction: column;align-items: center;background-color: white;padding-right: 0.2em;padding-left: 0.2em;position: relative;}#sk-container-id-10 div.sk-item {position: relative;z-index: 1;}#sk-container-id-10 div.sk-parallel {display: flex;align-items: stretch;justify-content: center;background-color: white;position: relative;}#sk-container-id-10 div.sk-item::before, #sk-container-id-10 div.sk-parallel-item::before {content: \"\";position: absolute;border-left: 1px solid gray;box-sizing: border-box;top: 0;bottom: 0;left: 50%;z-index: -1;}#sk-container-id-10 div.sk-parallel-item {display: flex;flex-direction: column;z-index: 1;position: relative;background-color: white;}#sk-container-id-10 div.sk-parallel-item:first-child::after {align-self: flex-end;width: 50%;}#sk-container-id-10 div.sk-parallel-item:last-child::after {align-self: flex-start;width: 50%;}#sk-container-id-10 div.sk-parallel-item:only-child::after {width: 0;}#sk-container-id-10 div.sk-dashed-wrapped {border: 1px dashed gray;margin: 0 0.4em 0.5em 0.4em;box-sizing: border-box;padding-bottom: 0.4em;background-color: white;}#sk-container-id-10 div.sk-label label {font-family: monospace;font-weight: bold;display: inline-block;line-height: 1.2em;}#sk-container-id-10 div.sk-label-container {text-align: center;}#sk-container-id-10 div.sk-container {/* jupyter's `normalize.less` sets `[hidden] { display: none; }` but bootstrap.min.css set `[hidden] { display: none !important; }` so we also need the `!important` here to be able to override the default hidden behavior on the sphinx rendered scikit-learn.org. See: https://github.com/scikit-learn/scikit-learn/issues/21755 */display: inline-block !important;position: relative;}#sk-container-id-10 div.sk-text-repr-fallback {display: none;}</style><div id=\"sk-container-id-10\" class=\"sk-top-container\"><div class=\"sk-text-repr-fallback\"><pre>GaussianNB(var_smoothing=0.1873817422860384)</pre><b>In a Jupyter environment, please rerun this cell to show the HTML representation or trust the notebook. <br />On GitHub, the HTML representation is unable to render, please try loading this page with nbviewer.org.</b></div><div class=\"sk-container\" hidden><div class=\"sk-item\"><div class=\"sk-estimator sk-toggleable\"><input class=\"sk-toggleable__control sk-hidden--visually\" id=\"sk-estimator-id-12\" type=\"checkbox\" checked><label for=\"sk-estimator-id-12\" class=\"sk-toggleable__label sk-toggleable__label-arrow\">GaussianNB</label><div class=\"sk-toggleable__content\"><pre>GaussianNB(var_smoothing=0.1873817422860384)</pre></div></div></div></div></div>"
      ],
      "text/plain": [
       "GaussianNB(var_smoothing=0.1873817422860384)"
      ]
     },
     "execution_count": 136,
     "metadata": {},
     "output_type": "execute_result"
    }
   ],
   "source": [
    "smote = SMOTE(random_state=42)\n",
    "X_num_smote, y_smote = smote.fit_resample(X_num, y)\n",
    "numerical_model_final= GaussianNB(var_smoothing=0.1873817422860384)\n",
    "numerical_model_final.fit(X_num_smote,y_smote)"
   ]
  },
  {
   "cell_type": "markdown",
   "id": "fb421c67",
   "metadata": {},
   "source": [
    "### 5. Predict the class of our test dataset"
   ]
  },
  {
   "cell_type": "code",
   "execution_count": 142,
   "id": "ce0ba2c2",
   "metadata": {},
   "outputs": [],
   "source": [
    "df_test=pd.read_csv(\"test.csv\")"
   ]
  },
  {
   "cell_type": "code",
   "execution_count": 143,
   "id": "4ce07a46",
   "metadata": {},
   "outputs": [],
   "source": [
    "df_test[\"name_clean\"]=df_test[\"name\"].apply(clean_and_lemma)\n",
    "df_test[\"review_clean\"]=df_test[\"review\"].apply(clean_and_lemma)"
   ]
  },
  {
   "cell_type": "code",
   "execution_count": 144,
   "id": "104a4ecd",
   "metadata": {},
   "outputs": [],
   "source": [
    "df_test[\"X_text\"] = df_test[\"name_clean\"]+ \" \"+df_test[\"review_clean\"]"
   ]
  },
  {
   "cell_type": "code",
   "execution_count": 145,
   "id": "ac6ae5cf",
   "metadata": {},
   "outputs": [
    {
     "data": {
      "text/plain": [
       "0    mcalister deli twice last week deli locate har...\n",
       "1    soup garden soup good however good would under...\n",
       "2    station coffee shop bakery friendly personable...\n",
       "3    key west hat company love hat probably 20 stil...\n",
       "4    lengua madre exactly want din experience great...\n",
       "Name: X_text, dtype: object"
      ]
     },
     "execution_count": 145,
     "metadata": {},
     "output_type": "execute_result"
    }
   ],
   "source": [
    "df_test[\"X_text\"].head(5)"
   ]
  },
  {
   "cell_type": "code",
   "execution_count": 146,
   "id": "2082ecb2",
   "metadata": {},
   "outputs": [],
   "source": [
    "X_text_final_test=df_test[\"X_text\"]\n",
    "X_num_final_test=df_test[[\"mean_checkin_time\"]]"
   ]
  },
  {
   "cell_type": "code",
   "execution_count": 147,
   "id": "9c1f9c11",
   "metadata": {},
   "outputs": [],
   "source": [
    "X_text_tfidf_final_test=tfidf.transform(X_text_final_test)\n",
    "text_prob_final=text_model_final.predict_proba(X_text_tfidf_final_test)"
   ]
  },
  {
   "cell_type": "code",
   "execution_count": 148,
   "id": "0d025120",
   "metadata": {},
   "outputs": [
    {
     "data": {
      "text/plain": [
       "array([[0.13036615, 0.79913671, 0.07049714],\n",
       "       [0.03629059, 0.8936738 , 0.07003561],\n",
       "       [0.36767884, 0.48038364, 0.15193752],\n",
       "       ...,\n",
       "       [0.50715545, 0.45760318, 0.03524136],\n",
       "       [0.15095304, 0.67759574, 0.17145122],\n",
       "       [0.06979635, 0.83982262, 0.09038103]])"
      ]
     },
     "execution_count": 148,
     "metadata": {},
     "output_type": "execute_result"
    }
   ],
   "source": [
    "text_prob_final"
   ]
  },
  {
   "cell_type": "code",
   "execution_count": 150,
   "id": "b9fe3dab",
   "metadata": {},
   "outputs": [],
   "source": [
    "num_prob_final=numerical_model_final.predict_proba(X_num_final_test)"
   ]
  },
  {
   "cell_type": "code",
   "execution_count": 151,
   "id": "9f68d834",
   "metadata": {},
   "outputs": [
    {
     "data": {
      "text/plain": [
       "array([[0.16968369, 0.33193345, 0.49838286],\n",
       "       [0.09025566, 0.29520238, 0.61454195],\n",
       "       [0.14257604, 0.31716947, 0.54025449],\n",
       "       ...,\n",
       "       [0.59102914, 0.36287484, 0.04609602],\n",
       "       [0.24231896, 0.36650509, 0.39117595],\n",
       "       [0.12084279, 0.30569096, 0.57346625]])"
      ]
     },
     "execution_count": 151,
     "metadata": {},
     "output_type": "execute_result"
    }
   ],
   "source": [
    "num_prob_final"
   ]
  },
  {
   "cell_type": "code",
   "execution_count": 155,
   "id": "e82ad2e8",
   "metadata": {},
   "outputs": [],
   "source": [
    "joined_prob_final=text_prob_final*num_prob_final"
   ]
  },
  {
   "cell_type": "code",
   "execution_count": 156,
   "id": "e7134fef",
   "metadata": {},
   "outputs": [
    {
     "data": {
      "text/plain": [
       "array([[0.02212101, 0.26526021, 0.03513456],\n",
       "       [0.00327543, 0.26381464, 0.04303982],\n",
       "       [0.0524222 , 0.15236302, 0.08208493],\n",
       "       ...,\n",
       "       [0.29974365, 0.16605268, 0.00162449],\n",
       "       [0.03657878, 0.24834229, 0.06706759],\n",
       "       [0.00843439, 0.25672619, 0.05183047]])"
      ]
     },
     "execution_count": 156,
     "metadata": {},
     "output_type": "execute_result"
    }
   ],
   "source": [
    "joined_prob_final"
   ]
  },
  {
   "cell_type": "code",
   "execution_count": 157,
   "id": "54a80083",
   "metadata": {},
   "outputs": [],
   "source": [
    "y_pred_final_test=final_predict(text_prob_final, joined_prob_final)"
   ]
  },
  {
   "cell_type": "code",
   "execution_count": 158,
   "id": "5d069c04",
   "metadata": {},
   "outputs": [],
   "source": [
    "df_test[\"category\"]=y_pred_final_test"
   ]
  },
  {
   "cell_type": "code",
   "execution_count": 159,
   "id": "37b61a28",
   "metadata": {},
   "outputs": [],
   "source": [
    "df_test[[\"ID\",\"category\"]].to_csv(\"final_test_prediction.csv\",index=False)"
   ]
  },
  {
   "cell_type": "code",
   "execution_count": null,
   "id": "c430800d",
   "metadata": {},
   "outputs": [],
   "source": []
  }
 ],
 "metadata": {
  "kernelspec": {
   "display_name": "Python 3 (ipykernel)",
   "language": "python",
   "name": "python3"
  },
  "language_info": {
   "codemirror_mode": {
    "name": "ipython",
    "version": 3
   },
   "file_extension": ".py",
   "mimetype": "text/x-python",
   "name": "python",
   "nbconvert_exporter": "python",
   "pygments_lexer": "ipython3",
   "version": "3.11.5"
  }
 },
 "nbformat": 4,
 "nbformat_minor": 5
}
